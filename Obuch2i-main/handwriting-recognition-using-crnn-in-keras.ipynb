{
 "cells": [
  {
   "cell_type": "code",
   "execution_count": 1,
   "metadata": {
    "_cell_guid": "79c7e3d0-c299-4dcb-8224-4455121ee9b0",
    "_uuid": "d629ff2d2480ee46fbb7e2d37f6b5fab8052498a",
    "execution": {
     "iopub.execute_input": "2024-07-18T16:35:48.287456Z",
     "iopub.status.busy": "2024-07-18T16:35:48.287116Z",
     "iopub.status.idle": "2024-07-18T16:35:48.294093Z",
     "shell.execute_reply": "2024-07-18T16:35:48.293120Z",
     "shell.execute_reply.started": "2024-07-18T16:35:48.287428Z"
    }
   },
   "outputs": [],
   "source": [
    "import os\n",
    "import cv2\n",
    "import random\n",
    "import numpy as np\n",
    "import pandas as pd\n",
    "import matplotlib.pyplot as plt\n",
    "\n",
    "import tensorflow as tf\n",
    "from keras import backend as K\n",
    "from keras.models import Model\n",
    "from keras.layers import Input, Conv2D, MaxPooling2D, Reshape, Bidirectional, LSTM, Dense, Lambda, Activation, BatchNormalization, Dropout\n",
    "from keras.optimizers import Adam"
   ]
  },
  {
   "cell_type": "markdown",
   "metadata": {},
   "source": [
    "## Load and view data"
   ]
  },
  {
   "cell_type": "code",
   "execution_count": null,
   "metadata": {
    "execution": {
     "iopub.execute_input": "2024-07-18T16:29:08.633953Z",
     "iopub.status.busy": "2024-07-18T16:29:08.633659Z",
     "iopub.status.idle": "2024-07-18T16:29:09.063290Z",
     "shell.execute_reply": "2024-07-18T16:29:09.062292Z",
     "shell.execute_reply.started": "2024-07-18T16:29:08.633926Z"
    }
   },
   "outputs": [],
   "source": [
    "train = pd.read_csv('/kaggle/input/handwriting-recognition/written_name_train_v2.csv')\n",
    "valid = pd.read_csv('/kaggle/input/handwriting-recognition/written_name_validation_v2.csv')"
   ]
  },
  {
   "cell_type": "code",
   "execution_count": null,
   "metadata": {
    "execution": {
     "iopub.execute_input": "2024-07-18T16:29:09.065158Z",
     "iopub.status.busy": "2024-07-18T16:29:09.064792Z",
     "iopub.status.idle": "2024-07-18T16:29:09.416430Z",
     "shell.execute_reply": "2024-07-18T16:29:09.415583Z",
     "shell.execute_reply.started": "2024-07-18T16:29:09.065118Z"
    }
   },
   "outputs": [],
   "source": [
    "plt.figure(figsize=(15, 10))\n",
    "\n",
    "for i in range(6):\n",
    "    ax = plt.subplot(2, 3, i+1)\n",
    "    img_dir = '/kaggle/input/handwriting-recognition/train_v2/train/'+train.loc[i, 'FILENAME']\n",
    "    image = cv2.imread(img_dir, cv2.IMREAD_GRAYSCALE)\n",
    "    plt.imshow(image, cmap = 'gray')\n",
    "    plt.title(train.loc[i, 'IDENTITY'], fontsize=12)\n",
    "    plt.axis('off')\n",
    "\n",
    "plt.subplots_adjust(wspace=0.2, hspace=-0.8)"
   ]
  },
  {
   "cell_type": "markdown",
   "metadata": {},
   "source": [
    "## Cleaning Data"
   ]
  },
  {
   "cell_type": "markdown",
   "metadata": {},
   "source": [
    "Let's check for NaNs in our label."
   ]
  },
  {
   "cell_type": "code",
   "execution_count": null,
   "metadata": {
    "execution": {
     "iopub.execute_input": "2024-07-18T16:29:09.417803Z",
     "iopub.status.busy": "2024-07-18T16:29:09.417540Z",
     "iopub.status.idle": "2024-07-18T16:29:09.461553Z",
     "shell.execute_reply": "2024-07-18T16:29:09.460796Z",
     "shell.execute_reply.started": "2024-07-18T16:29:09.417777Z"
    }
   },
   "outputs": [],
   "source": [
    "print(\"Number of NaNs in train set      : \", train['IDENTITY'].isnull().sum())\n",
    "print(\"Number of NaNs in validation set : \", valid['IDENTITY'].isnull().sum())"
   ]
  },
  {
   "cell_type": "code",
   "execution_count": null,
   "metadata": {
    "execution": {
     "iopub.execute_input": "2024-07-18T16:29:09.465111Z",
     "iopub.status.busy": "2024-07-18T16:29:09.464831Z",
     "iopub.status.idle": "2024-07-18T16:29:09.701297Z",
     "shell.execute_reply": "2024-07-18T16:29:09.700586Z",
     "shell.execute_reply.started": "2024-07-18T16:29:09.465084Z"
    }
   },
   "outputs": [],
   "source": [
    "train.dropna(axis=0, inplace=True)\n",
    "valid.dropna(axis=0, inplace=True)"
   ]
  },
  {
   "cell_type": "markdown",
   "metadata": {},
   "source": [
    "Also, there are some images in our data with the label 'UNREADABLE'. Lets check those images and remove them."
   ]
  },
  {
   "cell_type": "code",
   "execution_count": null,
   "metadata": {
    "execution": {
     "iopub.execute_input": "2024-07-18T16:29:09.703957Z",
     "iopub.status.busy": "2024-07-18T16:29:09.703688Z",
     "iopub.status.idle": "2024-07-18T16:29:10.107988Z",
     "shell.execute_reply": "2024-07-18T16:29:10.107043Z",
     "shell.execute_reply.started": "2024-07-18T16:29:09.703930Z"
    }
   },
   "outputs": [],
   "source": [
    "unreadable = train[train['IDENTITY'] == 'UNREADABLE']\n",
    "unreadable.reset_index(inplace = True, drop=True)\n",
    "\n",
    "plt.figure(figsize=(15, 10))\n",
    "\n",
    "for i in range(6):\n",
    "    ax = plt.subplot(2, 3, i+1)\n",
    "    img_dir = '/kaggle/input/handwriting-recognition/train_v2/train/'+unreadable.loc[i, 'FILENAME']\n",
    "    image = cv2.imread(img_dir, cv2.IMREAD_GRAYSCALE)\n",
    "    plt.imshow(image, cmap = 'gray')\n",
    "    plt.title(unreadable.loc[i, 'IDENTITY'], fontsize=12)\n",
    "    plt.axis('off')\n",
    "\n",
    "plt.subplots_adjust(wspace=0.2, hspace=-0.8)"
   ]
  },
  {
   "cell_type": "code",
   "execution_count": null,
   "metadata": {
    "execution": {
     "iopub.execute_input": "2024-07-18T16:29:10.109394Z",
     "iopub.status.busy": "2024-07-18T16:29:10.109118Z",
     "iopub.status.idle": "2024-07-18T16:29:10.185035Z",
     "shell.execute_reply": "2024-07-18T16:29:10.183646Z",
     "shell.execute_reply.started": "2024-07-18T16:29:10.109368Z"
    }
   },
   "outputs": [],
   "source": [
    "train = train[train['IDENTITY'] != 'UNREADABLE']\n",
    "valid = valid[valid['IDENTITY'] != 'UNREADABLE']"
   ]
  },
  {
   "cell_type": "markdown",
   "metadata": {},
   "source": [
    "There are some labels which are in lowercase. To maintain uniformity in the labels, I convert all the labels to uppercase."
   ]
  },
  {
   "cell_type": "code",
   "execution_count": null,
   "metadata": {
    "execution": {
     "iopub.execute_input": "2024-07-18T16:29:10.186922Z",
     "iopub.status.busy": "2024-07-18T16:29:10.186477Z",
     "iopub.status.idle": "2024-07-18T16:29:10.432900Z",
     "shell.execute_reply": "2024-07-18T16:29:10.432057Z",
     "shell.execute_reply.started": "2024-07-18T16:29:10.186883Z"
    }
   },
   "outputs": [],
   "source": [
    "train['IDENTITY'] = train['IDENTITY'].str.upper()\n",
    "valid['IDENTITY'] = valid['IDENTITY'].str.upper()"
   ]
  },
  {
   "cell_type": "markdown",
   "metadata": {},
   "source": [
    "Reset the index and we are done with cleaning. "
   ]
  },
  {
   "cell_type": "code",
   "execution_count": null,
   "metadata": {
    "execution": {
     "iopub.execute_input": "2024-07-18T16:29:10.434245Z",
     "iopub.status.busy": "2024-07-18T16:29:10.433961Z",
     "iopub.status.idle": "2024-07-18T16:29:10.438871Z",
     "shell.execute_reply": "2024-07-18T16:29:10.438135Z",
     "shell.execute_reply.started": "2024-07-18T16:29:10.434217Z"
    }
   },
   "outputs": [],
   "source": [
    "train.reset_index(inplace = True, drop=True) \n",
    "valid.reset_index(inplace = True, drop=True)"
   ]
  },
  {
   "cell_type": "markdown",
   "metadata": {},
   "source": [
    "## Preprocessing and preparing the images for training"
   ]
  },
  {
   "cell_type": "code",
   "execution_count": null,
   "metadata": {
    "execution": {
     "iopub.execute_input": "2024-07-18T16:29:10.440313Z",
     "iopub.status.busy": "2024-07-18T16:29:10.440024Z",
     "iopub.status.idle": "2024-07-18T16:29:10.449186Z",
     "shell.execute_reply": "2024-07-18T16:29:10.448506Z",
     "shell.execute_reply.started": "2024-07-18T16:29:10.440273Z"
    }
   },
   "outputs": [],
   "source": [
    "def preprocess(img):\n",
    "    (h, w) = img.shape\n",
    "    \n",
    "    final_img = np.ones([64, 256])*255 # blank white image\n",
    "    \n",
    "    # crop\n",
    "    if w > 256:\n",
    "        img = img[:, :256]\n",
    "        \n",
    "    if h > 64:\n",
    "        img = img[:64, :]\n",
    "    \n",
    "    \n",
    "    final_img[:h, :w] = img\n",
    "    return cv2.rotate(final_img, cv2.ROTATE_90_CLOCKWISE)"
   ]
  },
  {
   "cell_type": "code",
   "execution_count": null,
   "metadata": {
    "execution": {
     "iopub.execute_input": "2024-07-18T16:29:10.450877Z",
     "iopub.status.busy": "2024-07-18T16:29:10.450501Z",
     "iopub.status.idle": "2024-07-18T16:29:10.461784Z",
     "shell.execute_reply": "2024-07-18T16:29:10.461104Z",
     "shell.execute_reply.started": "2024-07-18T16:29:10.450841Z"
    }
   },
   "outputs": [],
   "source": [
    "train_size = 30000\n",
    "valid_size= 3000"
   ]
  },
  {
   "cell_type": "code",
   "execution_count": null,
   "metadata": {
    "execution": {
     "iopub.execute_input": "2024-07-18T16:29:10.463181Z",
     "iopub.status.busy": "2024-07-18T16:29:10.462901Z",
     "iopub.status.idle": "2024-07-18T16:31:49.718727Z",
     "shell.execute_reply": "2024-07-18T16:31:49.717838Z",
     "shell.execute_reply.started": "2024-07-18T16:29:10.463155Z"
    }
   },
   "outputs": [],
   "source": [
    "train_x = []\n",
    "\n",
    "for i in range(train_size):\n",
    "    img_dir = '/kaggle/input/handwriting-recognition/train_v2/train/'+train.loc[i, 'FILENAME']\n",
    "    image = cv2.imread(img_dir, cv2.IMREAD_GRAYSCALE)\n",
    "    image = preprocess(image)\n",
    "    image = image/255.\n",
    "    train_x.append(image)"
   ]
  },
  {
   "cell_type": "code",
   "execution_count": null,
   "metadata": {
    "execution": {
     "iopub.execute_input": "2024-07-18T16:31:49.720583Z",
     "iopub.status.busy": "2024-07-18T16:31:49.720186Z",
     "iopub.status.idle": "2024-07-18T16:32:05.700568Z",
     "shell.execute_reply": "2024-07-18T16:32:05.699613Z",
     "shell.execute_reply.started": "2024-07-18T16:31:49.720542Z"
    }
   },
   "outputs": [],
   "source": [
    "valid_x = []\n",
    "\n",
    "for i in range(valid_size):\n",
    "    img_dir = '/kaggle/input/handwriting-recognition/validation_v2/validation/'+valid.loc[i, 'FILENAME']\n",
    "    image = cv2.imread(img_dir, cv2.IMREAD_GRAYSCALE)\n",
    "    image = preprocess(image)\n",
    "    image = image/255.\n",
    "    valid_x.append(image)"
   ]
  },
  {
   "cell_type": "code",
   "execution_count": null,
   "metadata": {
    "execution": {
     "iopub.execute_input": "2024-07-18T16:32:05.702307Z",
     "iopub.status.busy": "2024-07-18T16:32:05.701925Z",
     "iopub.status.idle": "2024-07-18T16:32:06.949890Z",
     "shell.execute_reply": "2024-07-18T16:32:06.948924Z",
     "shell.execute_reply.started": "2024-07-18T16:32:05.702258Z"
    }
   },
   "outputs": [],
   "source": [
    "train_x = np.array(train_x).reshape(-1, 256, 64, 1)\n",
    "valid_x = np.array(valid_x).reshape(-1, 256, 64, 1)"
   ]
  },
  {
   "cell_type": "code",
   "execution_count": null,
   "metadata": {
    "execution": {
     "iopub.execute_input": "2024-07-18T16:32:06.951380Z",
     "iopub.status.busy": "2024-07-18T16:32:06.951077Z",
     "iopub.status.idle": "2024-07-18T16:32:06.958902Z",
     "shell.execute_reply": "2024-07-18T16:32:06.958039Z",
     "shell.execute_reply.started": "2024-07-18T16:32:06.951350Z"
    }
   },
   "outputs": [],
   "source": [
    "alphabets = u\"ABCDEFGHIJKLMNOPQRSTUVWXYZ-' \"\n",
    "max_str_len = 24 # max length of input labels\n",
    "num_of_characters = len(alphabets) + 1 # +1 for ctc pseudo blank\n",
    "num_of_timestamps = 64 # max length of predicted labels\n",
    "\n",
    "\n",
    "def label_to_num(label):\n",
    "    label_num = []\n",
    "    for ch in label:\n",
    "        label_num.append(alphabets.find(ch))\n",
    "        \n",
    "    return np.array(label_num)\n",
    "\n",
    "def num_to_label(num):\n",
    "    ret = \"\"\n",
    "    for ch in num:\n",
    "        if ch == -1:  # CTC Blank\n",
    "            break\n",
    "        else:\n",
    "            ret+=alphabets[ch]\n",
    "    return ret"
   ]
  },
  {
   "cell_type": "code",
   "execution_count": null,
   "metadata": {
    "execution": {
     "iopub.execute_input": "2024-07-18T16:32:06.960348Z",
     "iopub.status.busy": "2024-07-18T16:32:06.960036Z",
     "iopub.status.idle": "2024-07-18T16:32:06.972255Z",
     "shell.execute_reply": "2024-07-18T16:32:06.971424Z",
     "shell.execute_reply.started": "2024-07-18T16:32:06.960320Z"
    }
   },
   "outputs": [],
   "source": [
    "name = 'JEBASTIN'\n",
    "print(name, '\\n',label_to_num(name))"
   ]
  },
  {
   "cell_type": "code",
   "execution_count": null,
   "metadata": {
    "execution": {
     "iopub.execute_input": "2024-07-18T16:32:06.973571Z",
     "iopub.status.busy": "2024-07-18T16:32:06.973289Z",
     "iopub.status.idle": "2024-07-18T16:32:08.535602Z",
     "shell.execute_reply": "2024-07-18T16:32:08.534777Z",
     "shell.execute_reply.started": "2024-07-18T16:32:06.973534Z"
    }
   },
   "outputs": [],
   "source": [
    "train_y = np.ones([train_size, max_str_len]) * -1\n",
    "train_label_len = np.zeros([train_size, 1])\n",
    "train_input_len = np.ones([train_size, 1]) * (num_of_timestamps-2)\n",
    "train_output = np.zeros([train_size])\n",
    "\n",
    "for i in range(train_size):\n",
    "    train_label_len[i] = len(train.loc[i, 'IDENTITY'])\n",
    "    train_y[i, 0:len(train.loc[i, 'IDENTITY'])]= label_to_num(train.loc[i, 'IDENTITY'])    "
   ]
  },
  {
   "cell_type": "code",
   "execution_count": null,
   "metadata": {
    "execution": {
     "iopub.execute_input": "2024-07-18T16:32:08.537180Z",
     "iopub.status.busy": "2024-07-18T16:32:08.536807Z",
     "iopub.status.idle": "2024-07-18T16:32:08.701228Z",
     "shell.execute_reply": "2024-07-18T16:32:08.700239Z",
     "shell.execute_reply.started": "2024-07-18T16:32:08.537143Z"
    }
   },
   "outputs": [],
   "source": [
    "valid_y = np.ones([valid_size, max_str_len]) * -1\n",
    "valid_label_len = np.zeros([valid_size, 1])\n",
    "valid_input_len = np.ones([valid_size, 1]) * (num_of_timestamps-2)\n",
    "valid_output = np.zeros([valid_size])\n",
    "\n",
    "for i in range(valid_size):\n",
    "    valid_label_len[i] = len(valid.loc[i, 'IDENTITY'])\n",
    "    valid_y[i, 0:len(valid.loc[i, 'IDENTITY'])]= label_to_num(valid.loc[i, 'IDENTITY'])    "
   ]
  },
  {
   "cell_type": "code",
   "execution_count": null,
   "metadata": {
    "execution": {
     "iopub.execute_input": "2024-07-18T16:32:08.702576Z",
     "iopub.status.busy": "2024-07-18T16:32:08.702304Z",
     "iopub.status.idle": "2024-07-18T16:32:08.717765Z",
     "shell.execute_reply": "2024-07-18T16:32:08.716962Z",
     "shell.execute_reply.started": "2024-07-18T16:32:08.702549Z"
    }
   },
   "outputs": [],
   "source": [
    "print('True label : ',train.loc[100, 'IDENTITY'] , '\\ntrain_y : ',train_y[100],'\\ntrain_label_len : ',train_label_len[100], \n",
    "      '\\ntrain_input_len : ', train_input_len[100])"
   ]
  },
  {
   "cell_type": "markdown",
   "metadata": {},
   "source": [
    "## Building our model\n"
   ]
  },
  {
   "cell_type": "code",
   "execution_count": null,
   "metadata": {
    "execution": {
     "iopub.execute_input": "2024-07-18T16:32:08.719342Z",
     "iopub.status.busy": "2024-07-18T16:32:08.718970Z",
     "iopub.status.idle": "2024-07-18T16:32:11.415957Z",
     "shell.execute_reply": "2024-07-18T16:32:11.415112Z",
     "shell.execute_reply.started": "2024-07-18T16:32:08.719307Z"
    }
   },
   "outputs": [],
   "source": [
    "input_data = Input(shape=(256, 64, 1), name='input')\n",
    "\n",
    "inner = Conv2D(32, (3, 3), padding='same', name='conv1', kernel_initializer='he_normal')(input_data)  \n",
    "inner = BatchNormalization()(inner)\n",
    "inner = Activation('relu')(inner)\n",
    "inner = MaxPooling2D(pool_size=(2, 2), name='max1')(inner)\n",
    "\n",
    "inner = Conv2D(64, (3, 3), padding='same', name='conv2', kernel_initializer='he_normal')(inner)\n",
    "inner = BatchNormalization()(inner)\n",
    "inner = Activation('relu')(inner)\n",
    "inner = MaxPooling2D(pool_size=(2, 2), name='max2')(inner)\n",
    "inner = Dropout(0.3)(inner)\n",
    "\n",
    "inner = Conv2D(128, (3, 3), padding='same', name='conv3', kernel_initializer='he_normal')(inner)\n",
    "inner = BatchNormalization()(inner)\n",
    "inner = Activation('relu')(inner)\n",
    "inner = MaxPooling2D(pool_size=(1, 2), name='max3')(inner)\n",
    "inner = Dropout(0.3)(inner)\n",
    "\n",
    "# CNN to RNN\n",
    "inner = Reshape(target_shape=((64, 1024)), name='reshape')(inner)\n",
    "inner = Dense(64, activation='relu', kernel_initializer='he_normal', name='dense1')(inner)\n",
    "\n",
    "## RNN\n",
    "inner = Bidirectional(LSTM(256, return_sequences=True), name = 'lstm1')(inner)\n",
    "inner = Bidirectional(LSTM(256, return_sequences=True), name = 'lstm2')(inner)\n",
    "\n",
    "## OUTPUT\n",
    "inner = Dense(num_of_characters, kernel_initializer='he_normal',name='dense2')(inner)\n",
    "y_pred = Activation('softmax', name='softmax')(inner)\n",
    "\n",
    "model = Model(inputs=input_data, outputs=y_pred)\n",
    "model.summary()"
   ]
  },
  {
   "cell_type": "markdown",
   "metadata": {},
   "source": [
    "The output shape of the predictions is (64, 30). The model predicts words of 64 characters and each character contains the probability of the 30 alphabets which we defined earlier.  "
   ]
  },
  {
   "cell_type": "code",
   "execution_count": null,
   "metadata": {
    "execution": {
     "iopub.execute_input": "2024-07-18T16:32:11.417750Z",
     "iopub.status.busy": "2024-07-18T16:32:11.417378Z",
     "iopub.status.idle": "2024-07-18T16:32:11.422784Z",
     "shell.execute_reply": "2024-07-18T16:32:11.421829Z",
     "shell.execute_reply.started": "2024-07-18T16:32:11.417718Z"
    }
   },
   "outputs": [],
   "source": [
    "# the ctc loss function\n",
    "def ctc_lambda_func(args):\n",
    "    y_pred, labels, input_length, label_length = args\n",
    "    # the 2 is critical here since the first couple outputs of the RNN\n",
    "    # tend to be garbage\n",
    "    y_pred = y_pred[:, 2:, :]\n",
    "    return K.ctc_batch_cost(labels, y_pred, input_length, label_length)"
   ]
  },
  {
   "cell_type": "code",
   "execution_count": null,
   "metadata": {
    "execution": {
     "iopub.execute_input": "2024-07-18T16:32:11.424250Z",
     "iopub.status.busy": "2024-07-18T16:32:11.423979Z",
     "iopub.status.idle": "2024-07-18T16:32:11.534899Z",
     "shell.execute_reply": "2024-07-18T16:32:11.534205Z",
     "shell.execute_reply.started": "2024-07-18T16:32:11.424221Z"
    }
   },
   "outputs": [],
   "source": [
    "labels = Input(name='gtruth_labels', shape=[max_str_len], dtype='float32')\n",
    "input_length = Input(name='input_length', shape=[1], dtype='int64')\n",
    "label_length = Input(name='label_length', shape=[1], dtype='int64')\n",
    "\n",
    "ctc_loss = Lambda(ctc_lambda_func, output_shape=(1,), name='ctc')([y_pred, labels, input_length, label_length])\n",
    "model_final = Model(inputs=[input_data, labels, input_length, label_length], outputs=ctc_loss)"
   ]
  },
  {
   "cell_type": "markdown",
   "metadata": {},
   "source": [
    "## Train our model"
   ]
  },
  {
   "cell_type": "code",
   "execution_count": null,
   "metadata": {
    "execution": {
     "iopub.execute_input": "2024-07-18T16:32:11.536540Z",
     "iopub.status.busy": "2024-07-18T16:32:11.536166Z",
     "iopub.status.idle": "2024-07-18T16:34:41.723099Z",
     "shell.execute_reply": "2024-07-18T16:34:41.720665Z",
     "shell.execute_reply.started": "2024-07-18T16:32:11.536480Z"
    }
   },
   "outputs": [],
   "source": [
    "# the loss calculation occurs elsewhere, so we use a dummy lambda function for the loss\n",
    "model_final.compile(loss={'ctc': lambda y_true, y_pred: y_pred}, optimizer=Adam(lr = 0.0001))\n",
    "\n",
    "model_final.fit(x=[train_x, train_y, train_input_len, train_label_len], y=train_output, \n",
    "                validation_data=([valid_x, valid_y, valid_input_len, valid_label_len], valid_output),\n",
    "                epochs=60, batch_size=128)"
   ]
  },
  {
   "cell_type": "markdown",
   "metadata": {},
   "source": [
    "## Check model performance on validation set"
   ]
  },
  {
   "cell_type": "code",
   "execution_count": null,
   "metadata": {
    "execution": {
     "iopub.status.busy": "2024-07-18T16:34:41.724262Z",
     "iopub.status.idle": "2024-07-18T16:34:41.724735Z"
    }
   },
   "outputs": [],
   "source": [
    "preds = model.predict(valid_x)\n",
    "decoded = K.get_value(K.ctc_decode(preds, input_length=np.ones(preds.shape[0])*preds.shape[1], \n",
    "                                   greedy=True)[0][0])\n",
    "\n",
    "prediction = []\n",
    "for i in range(valid_size):\n",
    "    prediction.append(num_to_label(decoded[i]))"
   ]
  },
  {
   "cell_type": "code",
   "execution_count": null,
   "metadata": {
    "execution": {
     "iopub.status.busy": "2024-07-18T16:34:41.726001Z",
     "iopub.status.idle": "2024-07-18T16:34:41.726634Z"
    }
   },
   "outputs": [],
   "source": [
    "y_true = valid.loc[0:valid_size, 'IDENTITY']\n",
    "correct_char = 0\n",
    "total_char = 0\n",
    "correct = 0\n",
    "\n",
    "for i in range(valid_size):\n",
    "    pr = prediction[i]\n",
    "    tr = y_true[i]\n",
    "    total_char += len(tr)\n",
    "    \n",
    "    for j in range(min(len(tr), len(pr))):\n",
    "        if tr[j] == pr[j]:\n",
    "            correct_char += 1\n",
    "            \n",
    "    if pr == tr :\n",
    "        correct += 1 \n",
    "    \n",
    "print('Correct characters predicted : %.2f%%' %(correct_char*100/total_char))\n",
    "print('Correct words predicted      : %.2f%%' %(correct*100/valid_size))"
   ]
  },
  {
   "cell_type": "markdown",
   "metadata": {},
   "source": [
    "## Some predictions on test set"
   ]
  },
  {
   "cell_type": "code",
   "execution_count": null,
   "metadata": {
    "execution": {
     "iopub.status.busy": "2024-07-18T16:34:41.727844Z",
     "iopub.status.idle": "2024-07-18T16:34:41.728651Z"
    }
   },
   "outputs": [],
   "source": [
    "test = pd.read_csv('/kaggle/input/handwriting-recognition/written_name_test_v2.csv')\n",
    "\n",
    "plt.figure(figsize=(15, 10))\n",
    "for i in range(6):\n",
    "    ax = plt.subplot(2, 3, i+1)\n",
    "    img_dir = '/kaggle/input/handwriting-recognition/test_v2/test/'+test.loc[i, 'FILENAME']\n",
    "    image = cv2.imread(img_dir, cv2.IMREAD_GRAYSCALE)\n",
    "    plt.imshow(image, cmap='gray')\n",
    "    \n",
    "    image = preprocess(image)\n",
    "    image = image/255.\n",
    "    pred = model.predict(image.reshape(1, 256, 64, 1))\n",
    "    decoded = K.get_value(K.ctc_decode(pred, input_length=np.ones(pred.shape[0])*pred.shape[1], \n",
    "                                       greedy=True)[0][0])\n",
    "    plt.title(num_to_label(decoded[0]), fontsize=12)\n",
    "    plt.axis('off')\n",
    "    \n",
    "plt.subplots_adjust(wspace=0.2, hspace=-0.8)"
   ]
  }
 ],
 "metadata": {
  "kaggle": {
   "accelerator": "gpu",
   "dataSources": [
    {
     "datasetId": 818027,
     "sourceId": 1400106,
     "sourceType": "datasetVersion"
    }
   ],
   "dockerImageVersionId": 29995,
   "isGpuEnabled": true,
   "isInternetEnabled": false,
   "language": "python",
   "sourceType": "notebook"
  },
  "kernelspec": {
   "display_name": "Python 3 (ipykernel)",
   "language": "python",
   "name": "python3"
  },
  "language_info": {
   "codemirror_mode": {
    "name": "ipython",
    "version": 3
   },
   "file_extension": ".py",
   "mimetype": "text/x-python",
   "name": "python",
   "nbconvert_exporter": "python",
   "pygments_lexer": "ipython3",
   "version": "3.11.4"
  }
 },
 "nbformat": 4,
 "nbformat_minor": 4
}
