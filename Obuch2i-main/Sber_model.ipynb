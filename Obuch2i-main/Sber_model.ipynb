{
 "cells": [
  {
   "cell_type": "code",
   "execution_count": 1,
   "id": "56b7558f",
   "metadata": {},
   "outputs": [],
   "source": [
    "! pip install onnxruntime\n",
    "! pip install openvino\n",
    "! pip install huggingface_hub\n",
    "! pip install git+https://github.com/parlance/ctcdecode\n",
    "! pip install pyclipper\n",
    "\n",
    "! git clone https://github.com/ai-forever/SEGM-model.git\n",
    "! git clone https://github.com/ai-forever/OCR-model.git\n",
    "! git clone https://github.com/ai-forever/ReadingPipeline.git"
   ]
  },
  {
   "cell_type": "code",
   "execution_count": null,
   "id": "0a806fb8",
   "metadata": {},
   "outputs": [],
   "source": [
    "import sys\n",
    "sys.path.append('SEGM-model/')\n",
    "sys.path.append('OCR-model/')\n",
    "sys.path.append('ReadingPipeline/')\n",
    "\n",
    "import cv2\n",
    "from matplotlib import pyplot as plt\n",
    "import numpy as np\n",
    "import json\n",
    "\n",
    "from huggingface_hub import hf_hub_download\n",
    "\n",
    "from ocrpipeline.predictor import PipelinePredictor\n",
    "from ocrpipeline.linefinder import get_structured_text"
   ]
  },
  {
   "cell_type": "code",
   "execution_count": null,
   "id": "df8e5a89",
   "metadata": {},
   "outputs": [],
   "source": [
    "def get_config_and_download_weights(repo_id, device='cuda'):\n",
    "    # download weights and configs\n",
    "    pipeline_config_path = hf_hub_download(repo_id, \"pipeline_config.json\")\n",
    "    ocr_model_path = hf_hub_download(repo_id, \"ocr/ocr_model.ckpt\")\n",
    "    ocr_config_path = hf_hub_download(repo_id, \"ocr/ocr_config.json\")\n",
    "    segm_model_path = hf_hub_download(repo_id, \"segm/segm_model.ckpt\")\n",
    "    segm_config_path = hf_hub_download(repo_id, \"segm/segm_config.json\")\n",
    "\n",
    "    # change paths to downloaded weights and configs in main pipeline_config\n",
    "    with open(pipeline_config_path, 'r') as f:\n",
    "        pipeline_config = json.load(f)\n",
    "\n",
    "    pipeline_config['main_process']['SegmPrediction']['model_path'] = segm_model_path\n",
    "    pipeline_config['main_process']['SegmPrediction']['config_path'] = segm_config_path\n",
    "    pipeline_config['main_process']['SegmPrediction']['num_threads'] = 4\n",
    "    pipeline_config['main_process']['SegmPrediction']['device'] = device\n",
    "    pipeline_config['main_process']['SegmPrediction']['runtime'] = \"Pytorch\"\n",
    "\n",
    "    pipeline_config['main_process']['OCRPrediction']['model_path'] = ocr_model_path\n",
    "    pipeline_config['main_process']['OCRPrediction']['config_path'] = ocr_config_path\n",
    "    pipeline_config['main_process']['OCRPrediction']['num_threads'] = 4\n",
    "    pipeline_config['main_process']['OCRPrediction']['device'] = device\n",
    "    pipeline_config['main_process']['OCRPrediction']['runtime'] = \"Pytorch\"\n",
    "\n",
    "    # save pipeline_config\n",
    "    with open(pipeline_config_path, 'w') as f:\n",
    "        json.dump(pipeline_config, f)\n",
    "\n",
    "    return pipeline_config_path"
   ]
  },
  {
   "cell_type": "markdown",
   "id": "80106941",
   "metadata": {},
   "source": [
    "## Download weights and initialize the pipeline"
   ]
  },
  {
   "cell_type": "code",
   "execution_count": null,
   "id": "b6ec4f60",
   "metadata": {},
   "outputs": [],
   "source": [
    "PIPELINE_CONFIG_PATH = get_config_and_download_weights(\"sberbank-ai/ReadingPipeline-Peter\")\n",
    "\n",
    "predictor = PipelinePredictor(pipeline_config_path=PIPELINE_CONFIG_PATH)"
   ]
  },
  {
   "cell_type": "markdown",
   "id": "b8430b16",
   "metadata": {},
   "source": [
    "## Download and show the demo image"
   ]
  },
  {
   "cell_type": "code",
   "execution_count": null,
   "id": "28125e4e",
   "metadata": {},
   "outputs": [],
   "source": [
    "img_path = hf_hub_download(\"sberbank-ai/ReadingPipeline-Peter\", \"0_0.jpg\")\n",
    "\n",
    "image = cv2.imread(img_path)\n",
    "image = cv2.cvtColor(image, cv2.COLOR_BGR2RGB)\n",
    "\n",
    "plt.figure(figsize=(8, 8))\n",
    "plt.imshow(image)\n",
    "plt.show()"
   ]
  },
  {
   "cell_type": "markdown",
   "id": "8cac6898",
   "metadata": {},
   "source": [
    "## Predict"
   ]
  },
  {
   "cell_type": "code",
   "execution_count": null,
   "id": "5318ea5c",
   "metadata": {},
   "outputs": [],
   "source": [
    "image = cv2.imread(img_path)\n",
    "rotated_image, pred_data = predictor(image)"
   ]
  },
  {
   "cell_type": "code",
   "execution_count": null,
   "id": "e79f0d36",
   "metadata": {},
   "outputs": [],
   "source": [
    "structured_text = get_structured_text(pred_data, ['shrinked_text'])\n",
    "\n",
    "result_text = [' '.join(line_text) for page_text in structured_text\n",
    "                for line_text in page_text]\n",
    "\n",
    "for line in result_text:\n",
    "    print(line)"
   ]
  }
 ],
 "metadata": {
  "kernelspec": {
   "display_name": "Python 3 (ipykernel)",
   "language": "python",
   "name": "python3"
  },
  "language_info": {
   "codemirror_mode": {
    "name": "ipython",
    "version": 3
   },
   "file_extension": ".py",
   "mimetype": "text/x-python",
   "name": "python",
   "nbconvert_exporter": "python",
   "pygments_lexer": "ipython3",
   "version": "3.11.4"
  }
 },
 "nbformat": 4,
 "nbformat_minor": 5
}
