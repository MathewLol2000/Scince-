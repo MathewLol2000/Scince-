{
 "cells": [
  {
   "cell_type": "markdown",
   "metadata": {},
   "source": [
    "# Эксперимент не проведен \n",
    "hunspell - полная альтернатива language tool, только на другом бэкенде"
   ]
  },
  {
   "cell_type": "code",
   "execution_count": null,
   "metadata": {},
   "outputs": [],
   "source": [
    "# тут потенциально будет проблема с отсутствием компилятора с++\n",
    "# при установке придется потыкаться в либы\n",
    "import hunspell\n",
    "from ast import Dict\n",
    "from typing import List, Tuple\n",
    "\n",
    "# тут проблема с установкой (возможно надо запускать под линуксом или в другой папке)\n",
    "\n",
    "\n",
    "class SpellChecker:\n",
    "    def __init__(self):\n",
    "        super().__init__(self)\n",
    "        self.hobj = hunspell.HunSpell(\n",
    "            \"/usr/share/hunspell/ru_RU.dic\", \"/usr/share/hunspell/ru_RU.aff\"\n",
    "        )\n",
    "\n",
    "    def predict(self, text: str) -> List[Tuple[str, List[str]]]:\n",
    "        words = text.split()\n",
    "        corrections = []\n",
    "        for word in words:\n",
    "            if not self.hobj.spell(word):\n",
    "                suggestions = self.hobj.suggest(word)\n",
    "                corrections.append((word, suggestions))\n",
    "        return corrections\n",
    "\n",
    "    def evaluate(self, text: str, answer: str) -> Dict:\n",
    "        raise NotImplementedError\n",
    "        return super().evaluate(text, answer)"
   ]
  }
 ],
 "metadata": {
  "language_info": {
   "name": "python"
  }
 },
 "nbformat": 4,
 "nbformat_minor": 2
}
