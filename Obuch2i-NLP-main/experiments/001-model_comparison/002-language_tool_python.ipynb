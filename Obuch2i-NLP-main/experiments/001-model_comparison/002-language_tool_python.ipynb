{
 "cells": [
  {
   "cell_type": "code",
   "execution_count": 10,
   "metadata": {},
   "outputs": [
    {
     "name": "stderr",
     "output_type": "stream",
     "text": [
      "Using the latest cached version of the dataset since ai-forever/spellcheck_benchmark couldn't be found on the Hugging Face Hub\n",
      "Using the latest cached version of the dataset since ai-forever/spellcheck_benchmark couldn't be found on the Hugging Face Hub\n",
      "Found the latest cached dataset configuration 'RUSpellRU' at C:\\Users\\Андрей Т\\.cache\\huggingface\\datasets\\ai-forever___spellcheck_benchmark\\RUSpellRU\\0.0.1\\3395aa540689e4393c3e18d063e73a5b99d7f047 (last modified on Mon Jun 17 00:55:50 2024).\n",
      "Found the latest cached dataset configuration 'RUSpellRU' at C:\\Users\\Андрей Т\\.cache\\huggingface\\datasets\\ai-forever___spellcheck_benchmark\\RUSpellRU\\0.0.1\\3395aa540689e4393c3e18d063e73a5b99d7f047 (last modified on Mon Jun 17 00:55:50 2024).\n"
     ]
    }
   ],
   "source": [
    "import wandb\n",
    "from datasets import load_dataset, DatasetDict\n",
    "\n",
    "\n",
    "dataset: DatasetDict = load_dataset(\"ai-forever/spellcheck_benchmark\", \"RUSpellRU\")\n",
    "\n",
    "\n",
    "punct_dataset: DatasetDict = load_dataset(\n",
    "    \"ai-forever/spellcheck_punctuation_benchmark\", \"RUSpellRU\", trust_remote_code=True\n",
    ")"
   ]
  },
  {
   "cell_type": "code",
   "execution_count": 1,
   "metadata": {},
   "outputs": [],
   "source": [
    "import language_tool_python\n",
    "from src.base import BaseModel\n",
    "\n",
    "\n",
    "from typing import List, Tuple, Dict\n",
    "\n",
    "\n",
    "class PyLanguageToolModel(BaseModel):\n",
    "\n",
    "    def __init__(self):\n",
    "        super().__init__()\n",
    "        self.language_tool = language_tool_python.LanguageTool(\"ru\")\n",
    "\n",
    "    def predict_verbose(self, text: str) -> List[Tuple[str, List[str]]]:\n",
    "        matches = self.language_tool.check(text)\n",
    "        corrections = []\n",
    "        for match in matches:\n",
    "            error = text[match.offset : match.offset + match.errorLength + 1]\n",
    "            error = error.replace(\" \", \"\")\n",
    "            corrections.append(\n",
    "                {\n",
    "                    \"index\": match.offset,\n",
    "                    \"error\": error,\n",
    "                    \"suggestions\": match.replacements,\n",
    "                    \"message\": match.message,\n",
    "                }\n",
    "            )\n",
    "            try:\n",
    "                repl = match.replacements[0]\n",
    "            except IndexError:\n",
    "                repl = error\n",
    "            text = text.replace(error, repl)\n",
    "        return corrections, text\n",
    "\n",
    "    def predict(self, text: str):\n",
    "        _, result = self.predict_verbose(text)\n",
    "        return result\n",
    "\n",
    "    def evaluate(self, text: str, answer: str) -> Dict:\n",
    "        raise NotImplementedError\n",
    "        return super().evaluate(text, answer)"
   ]
  },
  {
   "cell_type": "code",
   "execution_count": 12,
   "metadata": {},
   "outputs": [
    {
     "data": {
      "text/plain": [
       "'Привет'"
      ]
     },
     "execution_count": 12,
     "metadata": {},
     "output_type": "execute_result"
    }
   ],
   "source": [
    "pmt = PyLanguageToolModel()\n",
    "pmt.predict(\"Превет\")"
   ]
  },
  {
   "cell_type": "markdown",
   "metadata": {},
   "source": [
    "Скоринг по орфографии"
   ]
  },
  {
   "cell_type": "code",
   "execution_count": 13,
   "metadata": {},
   "outputs": [
    {
     "data": {
      "text/html": [
       "Finishing last run (ID:sncsw1gl) before initializing another..."
      ],
      "text/plain": [
       "<IPython.core.display.HTML object>"
      ]
     },
     "metadata": {},
     "output_type": "display_data"
    },
    {
     "data": {
      "text/html": [
       " View run <strong style=\"color:#cdcd00\">distinctive-smoke-5</strong> at: <a href='https://wandb.ai/obuchii/NLP%20Scoring/runs/sncsw1gl' target=\"_blank\">https://wandb.ai/obuchii/NLP%20Scoring/runs/sncsw1gl</a><br/> View project at: <a href='https://wandb.ai/obuchii/NLP%20Scoring' target=\"_blank\">https://wandb.ai/obuchii/NLP%20Scoring</a><br/>Synced 5 W&B file(s), 0 media file(s), 0 artifact file(s) and 0 other file(s)"
      ],
      "text/plain": [
       "<IPython.core.display.HTML object>"
      ]
     },
     "metadata": {},
     "output_type": "display_data"
    },
    {
     "data": {
      "text/html": [
       "Find logs at: <code>.\\wandb\\run-20240711_012116-sncsw1gl\\logs</code>"
      ],
      "text/plain": [
       "<IPython.core.display.HTML object>"
      ]
     },
     "metadata": {},
     "output_type": "display_data"
    },
    {
     "data": {
      "text/html": [
       "The new W&B backend becomes opt-out in version 0.18.0; try it out with `wandb.require(\"core\")`! See https://wandb.me/wandb-core for more information."
      ],
      "text/plain": [
       "<IPython.core.display.HTML object>"
      ]
     },
     "metadata": {},
     "output_type": "display_data"
    },
    {
     "data": {
      "text/html": [
       "Successfully finished last run (ID:sncsw1gl). Initializing new run:<br/>"
      ],
      "text/plain": [
       "<IPython.core.display.HTML object>"
      ]
     },
     "metadata": {},
     "output_type": "display_data"
    },
    {
     "data": {
      "text/html": [
       "Tracking run with wandb version 0.17.4"
      ],
      "text/plain": [
       "<IPython.core.display.HTML object>"
      ]
     },
     "metadata": {},
     "output_type": "display_data"
    },
    {
     "data": {
      "text/html": [
       "Run data is saved locally in <code>c:\\lang_check\\experiments\\001-model_comparison\\wandb\\run-20240711_012710-lkrlnnk2</code>"
      ],
      "text/plain": [
       "<IPython.core.display.HTML object>"
      ]
     },
     "metadata": {},
     "output_type": "display_data"
    },
    {
     "data": {
      "text/html": [
       "Syncing run <strong><a href='https://wandb.ai/obuchii/NLP%20Scoring/runs/lkrlnnk2' target=\"_blank\">wobbly-fog-6</a></strong> to <a href='https://wandb.ai/obuchii/NLP%20Scoring' target=\"_blank\">Weights & Biases</a> (<a href='https://wandb.me/run' target=\"_blank\">docs</a>)<br/>"
      ],
      "text/plain": [
       "<IPython.core.display.HTML object>"
      ]
     },
     "metadata": {},
     "output_type": "display_data"
    },
    {
     "data": {
      "text/html": [
       " View project at <a href='https://wandb.ai/obuchii/NLP%20Scoring' target=\"_blank\">https://wandb.ai/obuchii/NLP%20Scoring</a>"
      ],
      "text/plain": [
       "<IPython.core.display.HTML object>"
      ]
     },
     "metadata": {},
     "output_type": "display_data"
    },
    {
     "data": {
      "text/html": [
       " View run at <a href='https://wandb.ai/obuchii/NLP%20Scoring/runs/lkrlnnk2' target=\"_blank\">https://wandb.ai/obuchii/NLP%20Scoring/runs/lkrlnnk2</a>"
      ],
      "text/plain": [
       "<IPython.core.display.HTML object>"
      ]
     },
     "metadata": {},
     "output_type": "display_data"
    }
   ],
   "source": [
    "from src.model_scorers import WandbSageModelScorer\n",
    "\n",
    "sms = WandbSageModelScorer(dataset=dataset[\"test\"], project=\"language_tool_python\")"
   ]
  },
  {
   "cell_type": "code",
   "execution_count": 14,
   "metadata": {},
   "outputs": [
    {
     "name": "stderr",
     "output_type": "stream",
     "text": []
    },
    {
     "name": "stderr",
     "output_type": "stream",
     "text": [
      "100%|██████████| 2008/2008 [20:10<00:00,  1.66it/s]\n",
      "Calculating errant metric: 100%|██████████| 2008/2008 [02:56<00:00, 11.36it/s]\n",
      "Calculating words metric: 100%|██████████| 2008/2008 [00:14<00:00, 137.72it/s]\n"
     ]
    }
   ],
   "source": [
    "scoring_final_result, explanation = sms.score_explain(\n",
    "    pmt, metrics=[\"errant\", \"ruspelleval\"]\n",
    ")"
   ]
  },
  {
   "cell_type": "code",
   "execution_count": 15,
   "metadata": {},
   "outputs": [
    {
     "data": {
      "text/plain": [
       "{'CASE_Precision': 0.0,\n",
       " 'CASE_Recall': 100.0,\n",
       " 'CASE_F1': 0.0,\n",
       " 'SPELL_Precision': 36.53,\n",
       " 'SPELL_Recall': 32.75,\n",
       " 'SPELL_F1': 34.53,\n",
       " 'YO_Precision': 0.0,\n",
       " 'YO_Recall': 100.0,\n",
       " 'YO_F1': 0.0,\n",
       " 'PUNCT_Precision': 0.0,\n",
       " 'PUNCT_Recall': 0.0,\n",
       " 'PUNCT_F1': 0.0,\n",
       " 'Precision': 45.2,\n",
       " 'Recall': 35.49,\n",
       " 'F1': 39.76}"
      ]
     },
     "execution_count": 15,
     "metadata": {},
     "output_type": "execute_result"
    }
   ],
   "source": [
    "scoring_final_result"
   ]
  },
  {
   "cell_type": "code",
   "execution_count": 16,
   "metadata": {},
   "outputs": [
    {
     "data": {
      "text/html": [
       "<div>\n",
       "<style scoped>\n",
       "    .dataframe tbody tr th:only-of-type {\n",
       "        vertical-align: middle;\n",
       "    }\n",
       "\n",
       "    .dataframe tbody tr th {\n",
       "        vertical-align: top;\n",
       "    }\n",
       "\n",
       "    .dataframe thead th {\n",
       "        text-align: right;\n",
       "    }\n",
       "</style>\n",
       "<table border=\"1\" class=\"dataframe\">\n",
       "  <thead>\n",
       "    <tr style=\"text-align: right;\">\n",
       "      <th></th>\n",
       "      <th>Source</th>\n",
       "      <th>Truth</th>\n",
       "      <th>Model_result</th>\n",
       "      <th>Model_is_correct</th>\n",
       "    </tr>\n",
       "  </thead>\n",
       "  <tbody>\n",
       "    <tr>\n",
       "      <th>0</th>\n",
       "      <td>﻿есть у вас оформленый и подписаный мною заказ</td>\n",
       "      <td>﻿есть у вас оформленный и подписанный мною заказ</td>\n",
       "      <td>﻿Есть у вас оформленный и подписанный мною заказ</td>\n",
       "      <td>True</td>\n",
       "    </tr>\n",
       "    <tr>\n",
       "      <th>1</th>\n",
       "      <td>вот в инете откапал такую интеерсную статейку ...</td>\n",
       "      <td>вот в инете откопал такую интересную статейку ...</td>\n",
       "      <td>Вот в иннете откапал такую интересную статейку...</td>\n",
       "      <td>False</td>\n",
       "    </tr>\n",
       "    <tr>\n",
       "      <th>2</th>\n",
       "      <td>я на всю жизнь запомню свое первое купание в з...</td>\n",
       "      <td>я на всю жизнь запомню свое первое купание в з...</td>\n",
       "      <td>Я на всю жизнь запомню свое первое купание в з...</td>\n",
       "      <td>True</td>\n",
       "    </tr>\n",
       "    <tr>\n",
       "      <th>3</th>\n",
       "      <td>думаем что не ошибемся если скажем что выставк...</td>\n",
       "      <td>думаем что не ошибемся если скажем что выставк...</td>\n",
       "      <td>Думаем что не ошибемся если скажем что выставк...</td>\n",
       "      <td>True</td>\n",
       "    </tr>\n",
       "    <tr>\n",
       "      <th>4</th>\n",
       "      <td>судьба человека может складываться очень разно...</td>\n",
       "      <td>судьба человека может складываться очень разно...</td>\n",
       "      <td>Судьба человека может складываться очень разно...</td>\n",
       "      <td>True</td>\n",
       "    </tr>\n",
       "    <tr>\n",
       "      <th>...</th>\n",
       "      <td>...</td>\n",
       "      <td>...</td>\n",
       "      <td>...</td>\n",
       "      <td>...</td>\n",
       "    </tr>\n",
       "    <tr>\n",
       "      <th>2003</th>\n",
       "      <td>спасибо вам огромное за нормальную новость о е...</td>\n",
       "      <td>спасибо вам огромное за нормальную новость о е...</td>\n",
       "      <td>Спасибо вам огромное за нормальную новость о и...</td>\n",
       "      <td>False</td>\n",
       "    </tr>\n",
       "    <tr>\n",
       "      <th>2004</th>\n",
       "      <td>более захватывающее и наглядное обучение возмо...</td>\n",
       "      <td>более захватывающее и наглядное обучение возмо...</td>\n",
       "      <td>Более захватывающее и наглядное обучение возмо...</td>\n",
       "      <td>True</td>\n",
       "    </tr>\n",
       "    <tr>\n",
       "      <th>2005</th>\n",
       "      <td>и вобщем-то все понятно на фоне слухов застави...</td>\n",
       "      <td>и в общем-то все понятно на фоне слухов застав...</td>\n",
       "      <td>И общем-то все понятно на фоне слухов заставИл...</td>\n",
       "      <td>False</td>\n",
       "    </tr>\n",
       "    <tr>\n",
       "      <th>2006</th>\n",
       "      <td>но всему есть придел</td>\n",
       "      <td>но всему есть предел</td>\n",
       "      <td>Но всему есть придел</td>\n",
       "      <td>False</td>\n",
       "    </tr>\n",
       "    <tr>\n",
       "      <th>2007</th>\n",
       "      <td>у нас в доме оччень много застекленных вертика...</td>\n",
       "      <td>у нас в доме очень много застекленных вертикал...</td>\n",
       "      <td>У нас в доме очень много застекленных вертикал...</td>\n",
       "      <td>True</td>\n",
       "    </tr>\n",
       "  </tbody>\n",
       "</table>\n",
       "<p>2008 rows × 4 columns</p>\n",
       "</div>"
      ],
      "text/plain": [
       "                                                 Source  \\\n",
       "0        ﻿есть у вас оформленый и подписаный мною заказ   \n",
       "1     вот в инете откапал такую интеерсную статейку ...   \n",
       "2     я на всю жизнь запомню свое первое купание в з...   \n",
       "3     думаем что не ошибемся если скажем что выставк...   \n",
       "4     судьба человека может складываться очень разно...   \n",
       "...                                                 ...   \n",
       "2003  спасибо вам огромное за нормальную новость о е...   \n",
       "2004  более захватывающее и наглядное обучение возмо...   \n",
       "2005  и вобщем-то все понятно на фоне слухов застави...   \n",
       "2006                               но всему есть придел   \n",
       "2007  у нас в доме оччень много застекленных вертика...   \n",
       "\n",
       "                                                  Truth  \\\n",
       "0      ﻿есть у вас оформленный и подписанный мною заказ   \n",
       "1     вот в инете откопал такую интересную статейку ...   \n",
       "2     я на всю жизнь запомню свое первое купание в з...   \n",
       "3     думаем что не ошибемся если скажем что выставк...   \n",
       "4     судьба человека может складываться очень разно...   \n",
       "...                                                 ...   \n",
       "2003  спасибо вам огромное за нормальную новость о е...   \n",
       "2004  более захватывающее и наглядное обучение возмо...   \n",
       "2005  и в общем-то все понятно на фоне слухов застав...   \n",
       "2006                               но всему есть предел   \n",
       "2007  у нас в доме очень много застекленных вертикал...   \n",
       "\n",
       "                                           Model_result  Model_is_correct  \n",
       "0      ﻿Есть у вас оформленный и подписанный мною заказ              True  \n",
       "1     Вот в иннете откапал такую интересную статейку...             False  \n",
       "2     Я на всю жизнь запомню свое первое купание в з...              True  \n",
       "3     Думаем что не ошибемся если скажем что выставк...              True  \n",
       "4     Судьба человека может складываться очень разно...              True  \n",
       "...                                                 ...               ...  \n",
       "2003  Спасибо вам огромное за нормальную новость о и...             False  \n",
       "2004  Более захватывающее и наглядное обучение возмо...              True  \n",
       "2005  И общем-то все понятно на фоне слухов заставИл...             False  \n",
       "2006                               Но всему есть придел             False  \n",
       "2007  У нас в доме очень много застекленных вертикал...              True  \n",
       "\n",
       "[2008 rows x 4 columns]"
      ]
     },
     "execution_count": 16,
     "metadata": {},
     "output_type": "execute_result"
    }
   ],
   "source": [
    "explanation"
   ]
  },
  {
   "cell_type": "code",
   "execution_count": 17,
   "metadata": {},
   "outputs": [
    {
     "data": {
      "text/plain": [
       "'Accuracy: 0.475597609561753'"
      ]
     },
     "execution_count": 17,
     "metadata": {},
     "output_type": "execute_result"
    }
   ],
   "source": [
    "acc = f\"Accuracy: {len(explanation[explanation.Model_is_correct]) / len(explanation)}\"\n",
    "acc"
   ]
  },
  {
   "cell_type": "markdown",
   "metadata": {},
   "source": [
    "Скоринг пунктуации"
   ]
  },
  {
   "cell_type": "code",
   "execution_count": 18,
   "metadata": {},
   "outputs": [
    {
     "name": "stderr",
     "output_type": "stream",
     "text": []
    },
    {
     "name": "stderr",
     "output_type": "stream",
     "text": [
      "100%|██████████| 2008/2008 [23:45<00:00,  1.41it/s]\n",
      "Calculating errant metric: 100%|██████████| 2008/2008 [05:51<00:00,  5.72it/s]\n"
     ]
    }
   ],
   "source": [
    "sms.dataset = punct_dataset[\"test\"]\n",
    "sms.run_suffix = \"_punct\"\n",
    "\n",
    "\n",
    "scoring_final_result, explanation = sms.score_explain(pmt, metrics=[\"errant\"])"
   ]
  },
  {
   "cell_type": "code",
   "execution_count": 19,
   "metadata": {},
   "outputs": [
    {
     "data": {
      "text/plain": [
       "{'SPELL_Precision': 37.56,\n",
       " 'SPELL_Recall': 26.17,\n",
       " 'SPELL_F1': 30.84,\n",
       " 'CASE_Precision': 66.27,\n",
       " 'CASE_Recall': 78.56,\n",
       " 'CASE_F1': 71.9,\n",
       " 'PUNCT_Precision': 41.94,\n",
       " 'PUNCT_Recall': 0.22,\n",
       " 'PUNCT_F1': 0.45,\n",
       " 'YO_Precision': 3.45,\n",
       " 'YO_Recall': 0.28,\n",
       " 'YO_F1': 0.51}"
      ]
     },
     "execution_count": 19,
     "metadata": {},
     "output_type": "execute_result"
    }
   ],
   "source": [
    "scoring_final_result"
   ]
  },
  {
   "cell_type": "code",
   "execution_count": 20,
   "metadata": {},
   "outputs": [
    {
     "data": {
      "text/html": [
       "<div>\n",
       "<style scoped>\n",
       "    .dataframe tbody tr th:only-of-type {\n",
       "        vertical-align: middle;\n",
       "    }\n",
       "\n",
       "    .dataframe tbody tr th {\n",
       "        vertical-align: top;\n",
       "    }\n",
       "\n",
       "    .dataframe thead th {\n",
       "        text-align: right;\n",
       "    }\n",
       "</style>\n",
       "<table border=\"1\" class=\"dataframe\">\n",
       "  <thead>\n",
       "    <tr style=\"text-align: right;\">\n",
       "      <th></th>\n",
       "      <th>Source</th>\n",
       "      <th>Truth</th>\n",
       "      <th>Model_result</th>\n",
       "      <th>Model_is_correct</th>\n",
       "    </tr>\n",
       "  </thead>\n",
       "  <tbody>\n",
       "    <tr>\n",
       "      <th>0</th>\n",
       "      <td>а так хочеться что-то мочь менять в этом мире ...</td>\n",
       "      <td>А так хочется что-то мочь менять в этом мире: ...</td>\n",
       "      <td>А тАк хочется что-то мочь менять в этом мире н...</td>\n",
       "      <td>False</td>\n",
       "    </tr>\n",
       "    <tr>\n",
       "      <th>1</th>\n",
       "      <td>давольно милый и летом и зимой обогреваемый те...</td>\n",
       "      <td>Довольно милый, и летом, и зимой обогреваемый ...</td>\n",
       "      <td>Довольно милый и летом и зимой обогреваемый те...</td>\n",
       "      <td>False</td>\n",
       "    </tr>\n",
       "    <tr>\n",
       "      <th>2</th>\n",
       "      <td>бывают такие моменты когда хочеться зделать чт...</td>\n",
       "      <td>Бывают такие моменты, когда хочется сделать чт...</td>\n",
       "      <td>Бывают такие моменты когда хочется зделать что...</td>\n",
       "      <td>False</td>\n",
       "    </tr>\n",
       "    <tr>\n",
       "      <th>3</th>\n",
       "      <td>﻿есть у вас оформленый и подписаный мною заказ</td>\n",
       "      <td>﻿Есть у вас оформленный и подписанный мною заказ?</td>\n",
       "      <td>﻿Есть у вас оформленный и подписанный мною заказ</td>\n",
       "      <td>False</td>\n",
       "    </tr>\n",
       "    <tr>\n",
       "      <th>4</th>\n",
       "      <td>вот в инете откапал такую интеерсную статейку ...</td>\n",
       "      <td>Вот в инете откопал такую интересную статейку,...</td>\n",
       "      <td>Вот в иннете откапал такую интересную статейку...</td>\n",
       "      <td>False</td>\n",
       "    </tr>\n",
       "    <tr>\n",
       "      <th>...</th>\n",
       "      <td>...</td>\n",
       "      <td>...</td>\n",
       "      <td>...</td>\n",
       "      <td>...</td>\n",
       "    </tr>\n",
       "    <tr>\n",
       "      <th>2003</th>\n",
       "      <td>спасибо вам огромное за нормальную новость о е...</td>\n",
       "      <td>Спасибо вам огромное за нормальную новость о Ё...</td>\n",
       "      <td>Спасибо вам огромное за нормальную новость о и...</td>\n",
       "      <td>False</td>\n",
       "    </tr>\n",
       "    <tr>\n",
       "      <th>2004</th>\n",
       "      <td>более захватывающее и наглядное обучение возмо...</td>\n",
       "      <td>Более захватывающее и наглядное обучение возмо...</td>\n",
       "      <td>Более захватывающее и наглядное обучение возмо...</td>\n",
       "      <td>False</td>\n",
       "    </tr>\n",
       "    <tr>\n",
       "      <th>2005</th>\n",
       "      <td>и вобщем-то все понятно на фоне слухов застави...</td>\n",
       "      <td>И, в общем-то, всё понятно на фоне слухов: зас...</td>\n",
       "      <td>И общем-то все понятно на фоне слухов заставИл...</td>\n",
       "      <td>False</td>\n",
       "    </tr>\n",
       "    <tr>\n",
       "      <th>2006</th>\n",
       "      <td>но всему есть придел</td>\n",
       "      <td>Но всему есть предел.</td>\n",
       "      <td>Но всему есть придел</td>\n",
       "      <td>False</td>\n",
       "    </tr>\n",
       "    <tr>\n",
       "      <th>2007</th>\n",
       "      <td>у нас в доме оччень много застекленных вертика...</td>\n",
       "      <td>У нас в доме очень много застеклённых вертикал...</td>\n",
       "      <td>У нас в доме очень много застекленных вертикал...</td>\n",
       "      <td>False</td>\n",
       "    </tr>\n",
       "  </tbody>\n",
       "</table>\n",
       "<p>2008 rows × 4 columns</p>\n",
       "</div>"
      ],
      "text/plain": [
       "                                                 Source  \\\n",
       "0     а так хочеться что-то мочь менять в этом мире ...   \n",
       "1     давольно милый и летом и зимой обогреваемый те...   \n",
       "2     бывают такие моменты когда хочеться зделать чт...   \n",
       "3        ﻿есть у вас оформленый и подписаный мною заказ   \n",
       "4     вот в инете откапал такую интеерсную статейку ...   \n",
       "...                                                 ...   \n",
       "2003  спасибо вам огромное за нормальную новость о е...   \n",
       "2004  более захватывающее и наглядное обучение возмо...   \n",
       "2005  и вобщем-то все понятно на фоне слухов застави...   \n",
       "2006                               но всему есть придел   \n",
       "2007  у нас в доме оччень много застекленных вертика...   \n",
       "\n",
       "                                                  Truth  \\\n",
       "0     А так хочется что-то мочь менять в этом мире: ...   \n",
       "1     Довольно милый, и летом, и зимой обогреваемый ...   \n",
       "2     Бывают такие моменты, когда хочется сделать чт...   \n",
       "3     ﻿Есть у вас оформленный и подписанный мною заказ?   \n",
       "4     Вот в инете откопал такую интересную статейку,...   \n",
       "...                                                 ...   \n",
       "2003  Спасибо вам огромное за нормальную новость о Ё...   \n",
       "2004  Более захватывающее и наглядное обучение возмо...   \n",
       "2005  И, в общем-то, всё понятно на фоне слухов: зас...   \n",
       "2006                              Но всему есть предел.   \n",
       "2007  У нас в доме очень много застеклённых вертикал...   \n",
       "\n",
       "                                           Model_result  Model_is_correct  \n",
       "0     А тАк хочется что-то мочь менять в этом мире н...             False  \n",
       "1     Довольно милый и летом и зимой обогреваемый те...             False  \n",
       "2     Бывают такие моменты когда хочется зделать что...             False  \n",
       "3      ﻿Есть у вас оформленный и подписанный мною заказ             False  \n",
       "4     Вот в иннете откапал такую интересную статейку...             False  \n",
       "...                                                 ...               ...  \n",
       "2003  Спасибо вам огромное за нормальную новость о и...             False  \n",
       "2004  Более захватывающее и наглядное обучение возмо...             False  \n",
       "2005  И общем-то все понятно на фоне слухов заставИл...             False  \n",
       "2006                               Но всему есть придел             False  \n",
       "2007  У нас в доме очень много застекленных вертикал...             False  \n",
       "\n",
       "[2008 rows x 4 columns]"
      ]
     },
     "execution_count": 20,
     "metadata": {},
     "output_type": "execute_result"
    }
   ],
   "source": [
    "explanation"
   ]
  },
  {
   "cell_type": "code",
   "execution_count": 21,
   "metadata": {},
   "outputs": [
    {
     "data": {
      "text/plain": [
       "'Punct Accuracy: 0.0'"
      ]
     },
     "execution_count": 21,
     "metadata": {},
     "output_type": "execute_result"
    }
   ],
   "source": [
    "f\"Punct Accuracy: {len(explanation[explanation.Model_is_correct]) / len(explanation)}\""
   ]
  },
  {
   "cell_type": "code",
   "execution_count": 22,
   "metadata": {},
   "outputs": [
    {
     "data": {
      "text/html": [
       " View run <strong style=\"color:#cdcd00\">wobbly-fog-6</strong> at: <a href='https://wandb.ai/obuchii/NLP%20Scoring/runs/lkrlnnk2' target=\"_blank\">https://wandb.ai/obuchii/NLP%20Scoring/runs/lkrlnnk2</a><br/> View project at: <a href='https://wandb.ai/obuchii/NLP%20Scoring' target=\"_blank\">https://wandb.ai/obuchii/NLP%20Scoring</a><br/>Synced 5 W&B file(s), 2 media file(s), 2 artifact file(s) and 0 other file(s)"
      ],
      "text/plain": [
       "<IPython.core.display.HTML object>"
      ]
     },
     "metadata": {},
     "output_type": "display_data"
    },
    {
     "data": {
      "text/html": [
       "Find logs at: <code>.\\wandb\\run-20240711_012710-lkrlnnk2\\logs</code>"
      ],
      "text/plain": [
       "<IPython.core.display.HTML object>"
      ]
     },
     "metadata": {},
     "output_type": "display_data"
    },
    {
     "data": {
      "text/html": [
       "The new W&B backend becomes opt-out in version 0.18.0; try it out with `wandb.require(\"core\")`! See https://wandb.me/wandb-core for more information."
      ],
      "text/plain": [
       "<IPython.core.display.HTML object>"
      ]
     },
     "metadata": {},
     "output_type": "display_data"
    }
   ],
   "source": [
    "wandb.run.finish()"
   ]
  },
  {
   "cell_type": "markdown",
   "metadata": {},
   "source": [
    "# Выводы\n",
    "\n",
    "https://wandb.ai/obuchii/NLP%20Scoring/runs/lkrlnnk2\n",
    "\n",
    "|  Задача | Errant Precision | Errant Recall | Errant F1 | Precision | Recall | F1\n",
    "|----------|----------|----------|----------|----------|----------|----------|\n",
    "| Spelling   | 36.53   | 32.75   | 34.53    | 45.2   | 35.49   | 39.76    |\n",
    "\n",
    "-------\n",
    "\n",
    "\n",
    "|  Задача | Punct Precision | Punct Recall | Punct F1 | Case Precision | Case Recall | Case F1\n",
    "|----------|----------|----------|----------|----------|----------|----------|\n",
    "| Punctuation   | 41.94   | 0.22   | 0.45    | 66.27  | 78.56   | 71.9    |\n",
    "\n",
    "\n",
    "Модель плохенько справляется со спеллингом, обычно на сложных примерах.\n",
    "\n",
    "Модель не умеет исправлять пунктуационные ошибки."
   ]
  },
  {
   "cell_type": "markdown",
   "metadata": {},
   "source": []
  }
 ],
 "metadata": {
  "kernelspec": {
   "display_name": ".venv",
   "language": "python",
   "name": "python3"
  },
  "language_info": {
   "codemirror_mode": {
    "name": "ipython",
    "version": 3
   },
   "file_extension": ".py",
   "mimetype": "text/x-python",
   "name": "python",
   "nbconvert_exporter": "python",
   "pygments_lexer": "ipython3",
   "version": "3.10.11"
  }
 },
 "nbformat": 4,
 "nbformat_minor": 2
}
