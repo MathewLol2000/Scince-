{
 "cells": [
  {
   "cell_type": "markdown",
   "metadata": {},
   "source": [
    "# Эксперимент 1 - исследование датасета\n",
    "\n",
    "Используем датасет [с гитлаба](https://github.com/dkulagin/kartaslov/blob/master/dataset/orfo_and_typos/orfo_and_typos.L1_5%2BPHON.csv)"
   ]
  },
  {
   "cell_type": "code",
   "execution_count": 1,
   "metadata": {},
   "outputs": [],
   "source": [
    "import pandas as pd"
   ]
  },
  {
   "cell_type": "code",
   "execution_count": 2,
   "metadata": {},
   "outputs": [],
   "source": [
    "url = \"https://raw.githubusercontent.com/dkulagin/kartaslov/master/dataset/orfo_and_typos/orfo_and_typos.L1_5%2BPHON.csv\""
   ]
  },
  {
   "cell_type": "code",
   "execution_count": 3,
   "metadata": {},
   "outputs": [],
   "source": [
    "df = pd.read_csv(url)"
   ]
  },
  {
   "cell_type": "code",
   "execution_count": 4,
   "metadata": {},
   "outputs": [
    {
     "data": {
      "text/html": [
       "<div>\n",
       "<style scoped>\n",
       "    .dataframe tbody tr th:only-of-type {\n",
       "        vertical-align: middle;\n",
       "    }\n",
       "\n",
       "    .dataframe tbody tr th {\n",
       "        vertical-align: top;\n",
       "    }\n",
       "\n",
       "    .dataframe thead th {\n",
       "        text-align: right;\n",
       "    }\n",
       "</style>\n",
       "<table border=\"1\" class=\"dataframe\">\n",
       "  <thead>\n",
       "    <tr style=\"text-align: right;\">\n",
       "      <th></th>\n",
       "      <th>CORRECT;MISTAKE;WEIGHT</th>\n",
       "    </tr>\n",
       "  </thead>\n",
       "  <tbody>\n",
       "    <tr>\n",
       "      <th>0</th>\n",
       "      <td>болота;болотро;0.5</td>\n",
       "    </tr>\n",
       "    <tr>\n",
       "      <th>1</th>\n",
       "      <td>болота;балото;0.2652</td>\n",
       "    </tr>\n",
       "    <tr>\n",
       "      <th>2</th>\n",
       "      <td>болота;боллото;0.0909</td>\n",
       "    </tr>\n",
       "    <tr>\n",
       "      <th>3</th>\n",
       "      <td>болота;болотоэ;0.0909</td>\n",
       "    </tr>\n",
       "    <tr>\n",
       "      <th>4</th>\n",
       "      <td>болото;палатаа;0.5</td>\n",
       "    </tr>\n",
       "    <tr>\n",
       "      <th>...</th>\n",
       "      <td>...</td>\n",
       "    </tr>\n",
       "    <tr>\n",
       "      <th>90967</th>\n",
       "      <td>догадливый;догадливвый;0.5</td>\n",
       "    </tr>\n",
       "    <tr>\n",
       "      <th>90968</th>\n",
       "      <td>пуховый;пуховык;0.5</td>\n",
       "    </tr>\n",
       "    <tr>\n",
       "      <th>90969</th>\n",
       "      <td>ослица;ослиа;0.25</td>\n",
       "    </tr>\n",
       "    <tr>\n",
       "      <th>90970</th>\n",
       "      <td>ослик;ослиа;0.5</td>\n",
       "    </tr>\n",
       "    <tr>\n",
       "      <th>90971</th>\n",
       "      <td>славянин;славяние;0.5</td>\n",
       "    </tr>\n",
       "  </tbody>\n",
       "</table>\n",
       "<p>90972 rows × 1 columns</p>\n",
       "</div>"
      ],
      "text/plain": [
       "           CORRECT;MISTAKE;WEIGHT\n",
       "0              болота;болотро;0.5\n",
       "1            болота;балото;0.2652\n",
       "2           болота;боллото;0.0909\n",
       "3           болота;болотоэ;0.0909\n",
       "4              болото;палатаа;0.5\n",
       "...                           ...\n",
       "90967  догадливый;догадливвый;0.5\n",
       "90968         пуховый;пуховык;0.5\n",
       "90969           ослица;ослиа;0.25\n",
       "90970             ослик;ослиа;0.5\n",
       "90971       славянин;славяние;0.5\n",
       "\n",
       "[90972 rows x 1 columns]"
      ]
     },
     "execution_count": 4,
     "metadata": {},
     "output_type": "execute_result"
    }
   ],
   "source": [
    "df"
   ]
  },
  {
   "cell_type": "markdown",
   "metadata": {},
   "source": [
    "### Вывод\n",
    "\n",
    "Нет предложений, только единичные слова\n",
    "\n",
    "Ищем датасет дальше"
   ]
  },
  {
   "cell_type": "markdown",
   "metadata": {},
   "source": [
    "Интересная статья с рецептами:\n",
    "\n",
    "https://habr.com/ru/companies/sberdevices/articles/763932/"
   ]
  },
  {
   "cell_type": "code",
   "execution_count": 5,
   "metadata": {},
   "outputs": [
    {
     "name": "stderr",
     "output_type": "stream",
     "text": [
      "c:\\lang_check\\.venv\\lib\\site-packages\\tqdm\\auto.py:21: TqdmWarning: IProgress not found. Please update jupyter and ipywidgets. See https://ipywidgets.readthedocs.io/en/stable/user_install.html\n",
      "  from .autonotebook import tqdm as notebook_tqdm\n"
     ]
    }
   ],
   "source": [
    "from datasets import load_dataset\n",
    "from datasets.arrow_dataset import Dataset\n",
    "from datasets.dataset_dict import DatasetDict, IterableDatasetDict\n",
    "from datasets.iterable_dataset import IterableDataset\n",
    "\n",
    "\n",
    "dataset: DatasetDict = load_dataset(\"ai-forever/spellcheck_benchmark\", \"RUSpellRU\")"
   ]
  },
  {
   "cell_type": "code",
   "execution_count": 6,
   "metadata": {},
   "outputs": [
    {
     "data": {
      "text/plain": [
       "Dataset({\n",
       "    features: ['source', 'correction', 'domain'],\n",
       "    num_rows: 2000\n",
       "})"
      ]
     },
     "execution_count": 6,
     "metadata": {},
     "output_type": "execute_result"
    }
   ],
   "source": [
    "dataset[\"train\"]"
   ]
  },
  {
   "cell_type": "markdown",
   "metadata": {},
   "source": [
    "SAGE бенчмаркинг\n",
    "\n",
    "https://habr.com/ru/companies/sberdevices/articles/763932/"
   ]
  },
  {
   "cell_type": "markdown",
   "metadata": {},
   "source": [
    "import os\n",
    "import torch\n",
    "from sage.utils import DatasetsAvailable\n",
    "from sage.spelling_correction import AvailableCorrectors\n",
    "from sage.spelling_correction import T5ModelForSpellingCorruption\n",
    "\n",
    "corrector_fred_95m = T5ModelForSpellingCorruption.from_pretrained(\n",
    "    AvailableCorrectors.sage_fredt5_distilled_95m.value\n",
    ")\n",
    "corrector_mt5 = T5ModelForSpellingCorruption.from_pretrained(\n",
    "    AvailableCorrectors.sage_mt5_large.value\n",
    ")\n",
    "\n",
    "corrector_fred_95m.model.to(torch.device(\"cuda:0\"))\n",
    "corrector_mt5.model.to(torch.device(\"cuda:0\"))\n",
    "\n",
    "metrics = corrector_fred_95m.evaluate(\n",
    "    \"RUSpellRU\", metrics=[\"errant\", \"ruspelleval\"], batch_size=32\n",
    ")\n",
    "print(metrics)\n",
    "\n",
    "metrics = corrector_mt5.evaluate(\n",
    "    \"/content/sage/data/example_data/jfleg\", metrics=[\"ruspelleval\"], batch_size=16\n",
    ")\n",
    "print(metrics)"
   ]
  },
  {
   "cell_type": "markdown",
   "metadata": {},
   "source": [
    "**Важно**\n",
    "\n",
    "При работе на windows может быть ошибка с отсутствием `SIGALRM`\n",
    "\n",
    "В этом случае придётся залезть в исходники и убрать все упоминания `SIGALRM`"
   ]
  },
  {
   "cell_type": "code",
   "execution_count": 7,
   "metadata": {},
   "outputs": [
    {
     "name": "stderr",
     "output_type": "stream",
     "text": [
      "Calculating words metric: 100%|██████████| 2/2 [00:00<00:00, 153.93it/s]\n"
     ]
    },
    {
     "data": {
      "text/plain": [
       "{'Precision': 100.0, 'Recall': 66.67, 'F1': 80.0}"
      ]
     },
     "execution_count": 7,
     "metadata": {},
     "output_type": "execute_result"
    }
   ],
   "source": [
    "from sage.evaluation.scorer import Scorer\n",
    "\n",
    "s = Scorer(load_errant=False)\n",
    "\n",
    "\n",
    "s.score(\n",
    "    [\"спел Кейс ее .\", \"спел Кей ее .\"],\n",
    "    [\"спелл кейс её !\", \"спелл кейс её !\"],\n",
    "    [\"спел кейс её .\", \"спелл Кейс ее !\"],\n",
    "    metrics=[\"ruspelleval\"],\n",
    ")"
   ]
  },
  {
   "cell_type": "markdown",
   "metadata": {},
   "source": []
  },
  {
   "cell_type": "markdown",
   "metadata": {},
   "source": []
  }
 ],
 "metadata": {
  "kernelspec": {
   "display_name": "base",
   "language": "python",
   "name": "python3"
  },
  "language_info": {
   "codemirror_mode": {
    "name": "ipython",
    "version": 3
   },
   "file_extension": ".py",
   "mimetype": "text/x-python",
   "name": "python",
   "nbconvert_exporter": "python",
   "pygments_lexer": "ipython3",
   "version": "3.10.11"
  }
 },
 "nbformat": 4,
 "nbformat_minor": 2
}
