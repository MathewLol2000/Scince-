{
 "cells": [
  {
   "cell_type": "markdown",
   "metadata": {},
   "source": [
    "# Документация яндекс спеллера\n",
    "\n",
    ">Похоже, можно использовать и в коммерческих целях, но лимит использования они не оговаривают\n",
    "\n",
    "https://yandex.ru/legal/speller_api/index.html"
   ]
  },
  {
   "cell_type": "code",
   "execution_count": 1,
   "metadata": {},
   "outputs": [
    {
     "name": "stderr",
     "output_type": "stream",
     "text": [
      "c:\\lang_check\\.venv\\lib\\site-packages\\tqdm\\auto.py:21: TqdmWarning: IProgress not found. Please update jupyter and ipywidgets. See https://ipywidgets.readthedocs.io/en/stable/user_install.html\n",
      "  from .autonotebook import tqdm as notebook_tqdm\n",
      "Using the latest cached version of the dataset since ai-forever/spellcheck_benchmark couldn't be found on the Hugging Face Hub\n",
      "Found the latest cached dataset configuration 'RUSpellRU' at C:\\Users\\Андрей Т\\.cache\\huggingface\\datasets\\ai-forever___spellcheck_benchmark\\RUSpellRU\\0.0.1\\3395aa540689e4393c3e18d063e73a5b99d7f047 (last modified on Mon Jun 17 00:55:50 2024).\n"
     ]
    }
   ],
   "source": [
    "import wandb\n",
    "from src.datasets import load_datasets\n",
    "\n",
    "orpho_dataset, punct_dataset = load_datasets()"
   ]
  },
  {
   "cell_type": "code",
   "execution_count": 8,
   "metadata": {},
   "outputs": [],
   "source": [
    "import requests\n",
    "from typing import List, Tuple, Dict\n",
    "from src.base import BaseModel\n",
    "\n",
    "\n",
    "class YandexSpellerModel(BaseModel):\n",
    "\n",
    "    def __init__(self):\n",
    "        super().__init__()\n",
    "        self.spell_service_url = (\n",
    "            \"https://speller.yandex.net/services/spellservice.json/checkText\"\n",
    "        )\n",
    "\n",
    "    def _send_request(self, text: str) -> List[Dict]:\n",
    "        \"\"\"\n",
    "        Отправляет запрос к Yandex Speller API для проверки текста.\n",
    "\n",
    "        Args:\n",
    "            text (str): Текст для проверки.\n",
    "\n",
    "        Returns:\n",
    "            List[Dict]: Список ошибок, найденных в тексте.\n",
    "        \"\"\"\n",
    "        params = {\"text\": text}\n",
    "        response = requests.get(self.spell_service_url, params=params)\n",
    "        response.raise_for_status()\n",
    "        return response.json()\n",
    "\n",
    "    def _process_errors(self, text: str, errors: List[Dict]) -> Tuple[List[Dict], str]:\n",
    "        \"\"\"\n",
    "        Обрабатывает ошибки и вносит исправления в текст.\n",
    "\n",
    "        Args:\n",
    "            text (str): Исходный текст.\n",
    "            errors (List[Dict]): Список ошибок, найденных в тексте.\n",
    "\n",
    "        Returns:\n",
    "            Tuple[List[Dict], str]: Список словарей с информацией об ошибках и исправленный текст.\n",
    "        \"\"\"\n",
    "        corrected_text = text\n",
    "        corrections = []\n",
    "\n",
    "        for error in errors:\n",
    "            start_pos = error[\"pos\"]\n",
    "            end_pos = start_pos + error[\"len\"]\n",
    "            error_text = text[start_pos:end_pos]\n",
    "            suggestions = error.get(\"s\", [])\n",
    "\n",
    "            if suggestions:\n",
    "                corrected_text = (\n",
    "                    corrected_text[:start_pos]\n",
    "                    + suggestions[0]\n",
    "                    + corrected_text[end_pos:]\n",
    "                )\n",
    "\n",
    "            correction = {\n",
    "                \"index\": start_pos,\n",
    "                \"error\": error_text,\n",
    "                \"suggestions\": suggestions,\n",
    "                \"message\": error.get(\"message\", \"\"),\n",
    "            }\n",
    "            corrections.append(correction)\n",
    "\n",
    "        return corrections, corrected_text\n",
    "\n",
    "    def predict_verbose(self, text: str) -> Tuple[List[Dict], str]:\n",
    "        \"\"\"\n",
    "        Проверяет текст на орфографические ошибки с использованием API Yandex Speller.\n",
    "\n",
    "        Args:\n",
    "            text (str): Текст для проверки.\n",
    "\n",
    "        Returns:\n",
    "            Tuple[List[Dict], str]: Список словарей с информацией об ошибках и исправленный текст.\n",
    "        \"\"\"\n",
    "        errors = self._send_request(text)\n",
    "        return self._process_errors(text, errors)\n",
    "\n",
    "    def predict(self, text: str) -> str:\n",
    "        \"\"\"\n",
    "        Возвращает текст с исправленными ошибками.\n",
    "\n",
    "        Args:\n",
    "            text (str): Текст для проверки.\n",
    "\n",
    "        Returns:\n",
    "            str: Исправленный текст.\n",
    "        \"\"\"\n",
    "        _, corrected_text = self.predict_verbose(text)\n",
    "        return corrected_text\n",
    "\n",
    "    def evaluate(self, text: str, answer: str) -> Dict:\n",
    "        \"\"\"\n",
    "        Оценка исправленного текста относительно ответа.\n",
    "        Метод не реализован и должен быть переопределен в подклассах.\n",
    "\n",
    "        Args:\n",
    "            text (str): Исходный текст.\n",
    "            answer (str): Ожидаемый текст.\n",
    "\n",
    "        Returns:\n",
    "            Dict: Оценка результатов.\n",
    "        \"\"\"\n",
    "        raise NotImplementedError(\"This method should be overridden in subclasses\")\n",
    "        return super().evaluate(text, answer)"
   ]
  },
  {
   "cell_type": "code",
   "execution_count": null,
   "metadata": {},
   "outputs": [],
   "source": [
    "model = YandexSpellerModel()\n",
    "model.predict_verbose(\n",
    "    \"а так хочеться что-то мочь менять в этом мире не обезательно менять но обязательно быть способным это зделать\"\n",
    ")"
   ]
  },
  {
   "cell_type": "markdown",
   "metadata": {},
   "source": [
    "Скоринг орфографии"
   ]
  },
  {
   "cell_type": "code",
   "execution_count": 4,
   "metadata": {},
   "outputs": [
    {
     "name": "stderr",
     "output_type": "stream",
     "text": [
      "Failed to detect the name of this notebook, you can set it manually with the WANDB_NOTEBOOK_NAME environment variable to enable code saving.\n",
      "\u001b[34m\u001b[1mwandb\u001b[0m: Currently logged in as: \u001b[33mandtun\u001b[0m (\u001b[33mobuchii\u001b[0m). Use \u001b[1m`wandb login --relogin`\u001b[0m to force relogin\n"
     ]
    },
    {
     "data": {
      "text/html": [
       "Tracking run with wandb version 0.17.4"
      ],
      "text/plain": [
       "<IPython.core.display.HTML object>"
      ]
     },
     "metadata": {},
     "output_type": "display_data"
    },
    {
     "data": {
      "text/html": [
       "Run data is saved locally in <code>c:\\lang_check\\experiments\\001-model_comparison\\wandb\\run-20240711_013129-mjvb28xc</code>"
      ],
      "text/plain": [
       "<IPython.core.display.HTML object>"
      ]
     },
     "metadata": {},
     "output_type": "display_data"
    },
    {
     "data": {
      "text/html": [
       "Syncing run <strong><a href='https://wandb.ai/obuchii/NLP%20Scoring/runs/mjvb28xc' target=\"_blank\">fresh-voice-7</a></strong> to <a href='https://wandb.ai/obuchii/NLP%20Scoring' target=\"_blank\">Weights & Biases</a> (<a href='https://wandb.me/run' target=\"_blank\">docs</a>)<br/>"
      ],
      "text/plain": [
       "<IPython.core.display.HTML object>"
      ]
     },
     "metadata": {},
     "output_type": "display_data"
    },
    {
     "data": {
      "text/html": [
       " View project at <a href='https://wandb.ai/obuchii/NLP%20Scoring' target=\"_blank\">https://wandb.ai/obuchii/NLP%20Scoring</a>"
      ],
      "text/plain": [
       "<IPython.core.display.HTML object>"
      ]
     },
     "metadata": {},
     "output_type": "display_data"
    },
    {
     "data": {
      "text/html": [
       " View run at <a href='https://wandb.ai/obuchii/NLP%20Scoring/runs/mjvb28xc' target=\"_blank\">https://wandb.ai/obuchii/NLP%20Scoring/runs/mjvb28xc</a>"
      ],
      "text/plain": [
       "<IPython.core.display.HTML object>"
      ]
     },
     "metadata": {},
     "output_type": "display_data"
    }
   ],
   "source": [
    "from src.model_scorers import WandbSageModelScorer\n",
    "\n",
    "sms = WandbSageModelScorer(dataset=orpho_dataset[\"test\"], project=\"yandex_speller\")"
   ]
  },
  {
   "cell_type": "code",
   "execution_count": 5,
   "metadata": {},
   "outputs": [
    {
     "name": "stderr",
     "output_type": "stream",
     "text": [
      "100%|██████████| 2008/2008 [03:11<00:00, 10.47it/s]\n",
      "Calculating errant metric: 100%|██████████| 2008/2008 [04:16<00:00,  7.84it/s]\n",
      "Calculating words metric: 100%|██████████| 2008/2008 [00:16<00:00, 123.22it/s]\n"
     ]
    },
    {
     "data": {
      "text/plain": [
       "{'SPELL_Precision': 61.97,\n",
       " 'SPELL_Recall': 49.78,\n",
       " 'SPELL_F1': 55.21,\n",
       " 'YO_Precision': 0.0,\n",
       " 'YO_Recall': 100.0,\n",
       " 'YO_F1': 0.0,\n",
       " 'PUNCT_Precision': 100.0,\n",
       " 'PUNCT_Recall': 0.0,\n",
       " 'PUNCT_F1': 0.0,\n",
       " 'CASE_Precision': 100.0,\n",
       " 'CASE_Recall': 100.0,\n",
       " 'CASE_F1': 100.0,\n",
       " 'Precision': 70.12,\n",
       " 'Recall': 49.95,\n",
       " 'F1': 58.34}"
      ]
     },
     "execution_count": 5,
     "metadata": {},
     "output_type": "execute_result"
    }
   ],
   "source": [
    "scoring_final_result, explanation = sms.score_explain(\n",
    "    model, metrics=[\"errant\", \"ruspelleval\"]\n",
    ")\n",
    "scoring_final_result"
   ]
  },
  {
   "cell_type": "code",
   "execution_count": 6,
   "metadata": {},
   "outputs": [
    {
     "data": {
      "text/html": [
       "<div>\n",
       "<style scoped>\n",
       "    .dataframe tbody tr th:only-of-type {\n",
       "        vertical-align: middle;\n",
       "    }\n",
       "\n",
       "    .dataframe tbody tr th {\n",
       "        vertical-align: top;\n",
       "    }\n",
       "\n",
       "    .dataframe thead th {\n",
       "        text-align: right;\n",
       "    }\n",
       "</style>\n",
       "<table border=\"1\" class=\"dataframe\">\n",
       "  <thead>\n",
       "    <tr style=\"text-align: right;\">\n",
       "      <th></th>\n",
       "      <th>Source</th>\n",
       "      <th>Truth</th>\n",
       "      <th>Model_result</th>\n",
       "      <th>Model_is_correct</th>\n",
       "    </tr>\n",
       "  </thead>\n",
       "  <tbody>\n",
       "    <tr>\n",
       "      <th>0</th>\n",
       "      <td>﻿есть у вас оформленый и подписаный мною заказ</td>\n",
       "      <td>﻿есть у вас оформленный и подписанный мною заказ</td>\n",
       "      <td>﻿есть у вас оформленый и подписаный мною заказ</td>\n",
       "      <td>False</td>\n",
       "    </tr>\n",
       "    <tr>\n",
       "      <th>1</th>\n",
       "      <td>вот в инете откапал такую интеерсную статейку ...</td>\n",
       "      <td>вот в инете откопал такую интересную статейку ...</td>\n",
       "      <td>вот в инете откопал такую интересную статейку ...</td>\n",
       "      <td>True</td>\n",
       "    </tr>\n",
       "    <tr>\n",
       "      <th>2</th>\n",
       "      <td>я на всю жизнь запомню свое первое купание в з...</td>\n",
       "      <td>я на всю жизнь запомню свое первое купание в з...</td>\n",
       "      <td>я на всю жизнь запомню свое первое купание в з...</td>\n",
       "      <td>True</td>\n",
       "    </tr>\n",
       "    <tr>\n",
       "      <th>3</th>\n",
       "      <td>думаем что не ошибемся если скажем что выставк...</td>\n",
       "      <td>думаем что не ошибемся если скажем что выставк...</td>\n",
       "      <td>думаем что не ошибемся если скажем что выставк...</td>\n",
       "      <td>True</td>\n",
       "    </tr>\n",
       "    <tr>\n",
       "      <th>4</th>\n",
       "      <td>судьба человека может складываться очень разно...</td>\n",
       "      <td>судьба человека может складываться очень разно...</td>\n",
       "      <td>судьба человека может складываться очень разно...</td>\n",
       "      <td>True</td>\n",
       "    </tr>\n",
       "    <tr>\n",
       "      <th>...</th>\n",
       "      <td>...</td>\n",
       "      <td>...</td>\n",
       "      <td>...</td>\n",
       "      <td>...</td>\n",
       "    </tr>\n",
       "    <tr>\n",
       "      <th>2003</th>\n",
       "      <td>спасибо вам огромное за нормальную новость о е...</td>\n",
       "      <td>спасибо вам огромное за нормальную новость о е...</td>\n",
       "      <td>спасибо вам огромное за нормальную новость о е...</td>\n",
       "      <td>True</td>\n",
       "    </tr>\n",
       "    <tr>\n",
       "      <th>2004</th>\n",
       "      <td>более захватывающее и наглядное обучение возмо...</td>\n",
       "      <td>более захватывающее и наглядное обучение возмо...</td>\n",
       "      <td>более захватывающее и наглядное обучение возмо...</td>\n",
       "      <td>True</td>\n",
       "    </tr>\n",
       "    <tr>\n",
       "      <th>2005</th>\n",
       "      <td>и вобщем-то все понятно на фоне слухов застави...</td>\n",
       "      <td>и в общем-то все понятно на фоне слухов застав...</td>\n",
       "      <td>и в общем-то все понятно на фоне слухов застав...</td>\n",
       "      <td>False</td>\n",
       "    </tr>\n",
       "    <tr>\n",
       "      <th>2006</th>\n",
       "      <td>но всему есть придел</td>\n",
       "      <td>но всему есть предел</td>\n",
       "      <td>но всему есть предел</td>\n",
       "      <td>True</td>\n",
       "    </tr>\n",
       "    <tr>\n",
       "      <th>2007</th>\n",
       "      <td>у нас в доме оччень много застекленных вертика...</td>\n",
       "      <td>у нас в доме очень много застекленных вертикал...</td>\n",
       "      <td>у нас в доме очень много застекленных вертикал...</td>\n",
       "      <td>True</td>\n",
       "    </tr>\n",
       "  </tbody>\n",
       "</table>\n",
       "<p>2008 rows × 4 columns</p>\n",
       "</div>"
      ],
      "text/plain": [
       "                                                 Source  \\\n",
       "0        ﻿есть у вас оформленый и подписаный мною заказ   \n",
       "1     вот в инете откапал такую интеерсную статейку ...   \n",
       "2     я на всю жизнь запомню свое первое купание в з...   \n",
       "3     думаем что не ошибемся если скажем что выставк...   \n",
       "4     судьба человека может складываться очень разно...   \n",
       "...                                                 ...   \n",
       "2003  спасибо вам огромное за нормальную новость о е...   \n",
       "2004  более захватывающее и наглядное обучение возмо...   \n",
       "2005  и вобщем-то все понятно на фоне слухов застави...   \n",
       "2006                               но всему есть придел   \n",
       "2007  у нас в доме оччень много застекленных вертика...   \n",
       "\n",
       "                                                  Truth  \\\n",
       "0      ﻿есть у вас оформленный и подписанный мною заказ   \n",
       "1     вот в инете откопал такую интересную статейку ...   \n",
       "2     я на всю жизнь запомню свое первое купание в з...   \n",
       "3     думаем что не ошибемся если скажем что выставк...   \n",
       "4     судьба человека может складываться очень разно...   \n",
       "...                                                 ...   \n",
       "2003  спасибо вам огромное за нормальную новость о е...   \n",
       "2004  более захватывающее и наглядное обучение возмо...   \n",
       "2005  и в общем-то все понятно на фоне слухов застав...   \n",
       "2006                               но всему есть предел   \n",
       "2007  у нас в доме очень много застекленных вертикал...   \n",
       "\n",
       "                                           Model_result  Model_is_correct  \n",
       "0        ﻿есть у вас оформленый и подписаный мною заказ             False  \n",
       "1     вот в инете откопал такую интересную статейку ...              True  \n",
       "2     я на всю жизнь запомню свое первое купание в з...              True  \n",
       "3     думаем что не ошибемся если скажем что выставк...              True  \n",
       "4     судьба человека может складываться очень разно...              True  \n",
       "...                                                 ...               ...  \n",
       "2003  спасибо вам огромное за нормальную новость о е...              True  \n",
       "2004  более захватывающее и наглядное обучение возмо...              True  \n",
       "2005  и в общем-то все понятно на фоне слухов застав...             False  \n",
       "2006                               но всему есть предел              True  \n",
       "2007  у нас в доме очень много застекленных вертикал...              True  \n",
       "\n",
       "[2008 rows x 4 columns]"
      ]
     },
     "execution_count": 6,
     "metadata": {},
     "output_type": "execute_result"
    }
   ],
   "source": [
    "explanation"
   ]
  },
  {
   "cell_type": "markdown",
   "metadata": {},
   "source": [
    "Скоринг пунктуации"
   ]
  },
  {
   "cell_type": "code",
   "execution_count": 7,
   "metadata": {},
   "outputs": [],
   "source": [
    "sms.dataset = punct_dataset[\"test\"]\n",
    "sms.run_suffix = \"_punct\""
   ]
  },
  {
   "cell_type": "code",
   "execution_count": 8,
   "metadata": {},
   "outputs": [
    {
     "name": "stderr",
     "output_type": "stream",
     "text": [
      "  0%|          | 0/2008 [00:00<?, ?it/s]"
     ]
    },
    {
     "name": "stderr",
     "output_type": "stream",
     "text": [
      "100%|██████████| 2008/2008 [03:04<00:00, 10.89it/s]\n",
      "Calculating errant metric: 100%|██████████| 2008/2008 [03:20<00:00, 10.01it/s]\n",
      "Calculating words metric: 100%|██████████| 2008/2008 [00:10<00:00, 198.91it/s]\n"
     ]
    },
    {
     "data": {
      "text/plain": [
       "{'SPELL_Precision': 58.2,\n",
       " 'SPELL_Recall': 36.33,\n",
       " 'SPELL_F1': 44.73,\n",
       " 'CASE_Precision': 100.0,\n",
       " 'CASE_Recall': 0.0,\n",
       " 'CASE_F1': 0.0,\n",
       " 'PUNCT_Precision': 100.0,\n",
       " 'PUNCT_Recall': 0.0,\n",
       " 'PUNCT_F1': 0.0,\n",
       " 'YO_Precision': 50.0,\n",
       " 'YO_Recall': 0.83,\n",
       " 'YO_F1': 1.63,\n",
       " 'Precision': 70.97,\n",
       " 'Recall': 48.19,\n",
       " 'F1': 57.41}"
      ]
     },
     "execution_count": 8,
     "metadata": {},
     "output_type": "execute_result"
    }
   ],
   "source": [
    "scoring_final_result, explanation = sms.score_explain(\n",
    "    model, metrics=[\"errant\", \"ruspelleval\"]\n",
    ")\n",
    "scoring_final_result"
   ]
  },
  {
   "cell_type": "code",
   "execution_count": 9,
   "metadata": {},
   "outputs": [
    {
     "data": {
      "text/html": [
       "<div>\n",
       "<style scoped>\n",
       "    .dataframe tbody tr th:only-of-type {\n",
       "        vertical-align: middle;\n",
       "    }\n",
       "\n",
       "    .dataframe tbody tr th {\n",
       "        vertical-align: top;\n",
       "    }\n",
       "\n",
       "    .dataframe thead th {\n",
       "        text-align: right;\n",
       "    }\n",
       "</style>\n",
       "<table border=\"1\" class=\"dataframe\">\n",
       "  <thead>\n",
       "    <tr style=\"text-align: right;\">\n",
       "      <th></th>\n",
       "      <th>Source</th>\n",
       "      <th>Truth</th>\n",
       "      <th>Model_result</th>\n",
       "      <th>Model_is_correct</th>\n",
       "    </tr>\n",
       "  </thead>\n",
       "  <tbody>\n",
       "    <tr>\n",
       "      <th>0</th>\n",
       "      <td>а так хочеться что-то мочь менять в этом мире ...</td>\n",
       "      <td>А так хочется что-то мочь менять в этом мире: ...</td>\n",
       "      <td>а так хочется что-то мочь менять в этом мире н...</td>\n",
       "      <td>False</td>\n",
       "    </tr>\n",
       "    <tr>\n",
       "      <th>1</th>\n",
       "      <td>давольно милый и летом и зимой обогреваемый те...</td>\n",
       "      <td>Довольно милый, и летом, и зимой обогреваемый ...</td>\n",
       "      <td>довольно милый и летом и зимой обогреваемый те...</td>\n",
       "      <td>False</td>\n",
       "    </tr>\n",
       "    <tr>\n",
       "      <th>2</th>\n",
       "      <td>бывают такие моменты когда хочеться зделать чт...</td>\n",
       "      <td>Бывают такие моменты, когда хочется сделать чт...</td>\n",
       "      <td>бывают такие моменты когда хочется зсделатьчто...</td>\n",
       "      <td>False</td>\n",
       "    </tr>\n",
       "    <tr>\n",
       "      <th>3</th>\n",
       "      <td>﻿есть у вас оформленый и подписаный мною заказ</td>\n",
       "      <td>﻿Есть у вас оформленный и подписанный мною заказ?</td>\n",
       "      <td>﻿есть у вас оформленый и подписаный мною заказ</td>\n",
       "      <td>False</td>\n",
       "    </tr>\n",
       "    <tr>\n",
       "      <th>4</th>\n",
       "      <td>вот в инете откапал такую интеерсную статейку ...</td>\n",
       "      <td>Вот в инете откопал такую интересную статейку,...</td>\n",
       "      <td>вот в инете откопал такую интересную статейку ...</td>\n",
       "      <td>False</td>\n",
       "    </tr>\n",
       "    <tr>\n",
       "      <th>...</th>\n",
       "      <td>...</td>\n",
       "      <td>...</td>\n",
       "      <td>...</td>\n",
       "      <td>...</td>\n",
       "    </tr>\n",
       "    <tr>\n",
       "      <th>2003</th>\n",
       "      <td>спасибо вам огромное за нормальную новость о е...</td>\n",
       "      <td>Спасибо вам огромное за нормальную новость о Ё...</td>\n",
       "      <td>спасибо вам огромное за нормальную новость о е...</td>\n",
       "      <td>False</td>\n",
       "    </tr>\n",
       "    <tr>\n",
       "      <th>2004</th>\n",
       "      <td>более захватывающее и наглядное обучение возмо...</td>\n",
       "      <td>Более захватывающее и наглядное обучение возмо...</td>\n",
       "      <td>более захватывающее и наглядное обучение возмо...</td>\n",
       "      <td>False</td>\n",
       "    </tr>\n",
       "    <tr>\n",
       "      <th>2005</th>\n",
       "      <td>и вобщем-то все понятно на фоне слухов застави...</td>\n",
       "      <td>И, в общем-то, всё понятно на фоне слухов: зас...</td>\n",
       "      <td>и в общем-то все понятно на фоне слухов застав...</td>\n",
       "      <td>False</td>\n",
       "    </tr>\n",
       "    <tr>\n",
       "      <th>2006</th>\n",
       "      <td>но всему есть придел</td>\n",
       "      <td>Но всему есть предел.</td>\n",
       "      <td>но всему есть предел</td>\n",
       "      <td>False</td>\n",
       "    </tr>\n",
       "    <tr>\n",
       "      <th>2007</th>\n",
       "      <td>у нас в доме оччень много застекленных вертика...</td>\n",
       "      <td>У нас в доме очень много застеклённых вертикал...</td>\n",
       "      <td>у нас в доме очень много застекленных вертикал...</td>\n",
       "      <td>False</td>\n",
       "    </tr>\n",
       "  </tbody>\n",
       "</table>\n",
       "<p>2008 rows × 4 columns</p>\n",
       "</div>"
      ],
      "text/plain": [
       "                                                 Source  \\\n",
       "0     а так хочеться что-то мочь менять в этом мире ...   \n",
       "1     давольно милый и летом и зимой обогреваемый те...   \n",
       "2     бывают такие моменты когда хочеться зделать чт...   \n",
       "3        ﻿есть у вас оформленый и подписаный мною заказ   \n",
       "4     вот в инете откапал такую интеерсную статейку ...   \n",
       "...                                                 ...   \n",
       "2003  спасибо вам огромное за нормальную новость о е...   \n",
       "2004  более захватывающее и наглядное обучение возмо...   \n",
       "2005  и вобщем-то все понятно на фоне слухов застави...   \n",
       "2006                               но всему есть придел   \n",
       "2007  у нас в доме оччень много застекленных вертика...   \n",
       "\n",
       "                                                  Truth  \\\n",
       "0     А так хочется что-то мочь менять в этом мире: ...   \n",
       "1     Довольно милый, и летом, и зимой обогреваемый ...   \n",
       "2     Бывают такие моменты, когда хочется сделать чт...   \n",
       "3     ﻿Есть у вас оформленный и подписанный мною заказ?   \n",
       "4     Вот в инете откопал такую интересную статейку,...   \n",
       "...                                                 ...   \n",
       "2003  Спасибо вам огромное за нормальную новость о Ё...   \n",
       "2004  Более захватывающее и наглядное обучение возмо...   \n",
       "2005  И, в общем-то, всё понятно на фоне слухов: зас...   \n",
       "2006                              Но всему есть предел.   \n",
       "2007  У нас в доме очень много застеклённых вертикал...   \n",
       "\n",
       "                                           Model_result  Model_is_correct  \n",
       "0     а так хочется что-то мочь менять в этом мире н...             False  \n",
       "1     довольно милый и летом и зимой обогреваемый те...             False  \n",
       "2     бывают такие моменты когда хочется зсделатьчто...             False  \n",
       "3        ﻿есть у вас оформленый и подписаный мною заказ             False  \n",
       "4     вот в инете откопал такую интересную статейку ...             False  \n",
       "...                                                 ...               ...  \n",
       "2003  спасибо вам огромное за нормальную новость о е...             False  \n",
       "2004  более захватывающее и наглядное обучение возмо...             False  \n",
       "2005  и в общем-то все понятно на фоне слухов застав...             False  \n",
       "2006                               но всему есть предел             False  \n",
       "2007  у нас в доме очень много застекленных вертикал...             False  \n",
       "\n",
       "[2008 rows x 4 columns]"
      ]
     },
     "execution_count": 9,
     "metadata": {},
     "output_type": "execute_result"
    }
   ],
   "source": [
    "explanation"
   ]
  },
  {
   "cell_type": "code",
   "execution_count": 10,
   "metadata": {},
   "outputs": [
    {
     "data": {
      "text/html": [
       " View run <strong style=\"color:#cdcd00\">fresh-voice-7</strong> at: <a href='https://wandb.ai/obuchii/NLP%20Scoring/runs/mjvb28xc' target=\"_blank\">https://wandb.ai/obuchii/NLP%20Scoring/runs/mjvb28xc</a><br/> View project at: <a href='https://wandb.ai/obuchii/NLP%20Scoring' target=\"_blank\">https://wandb.ai/obuchii/NLP%20Scoring</a><br/>Synced 5 W&B file(s), 2 media file(s), 2 artifact file(s) and 0 other file(s)"
      ],
      "text/plain": [
       "<IPython.core.display.HTML object>"
      ]
     },
     "metadata": {},
     "output_type": "display_data"
    },
    {
     "data": {
      "text/html": [
       "Find logs at: <code>.\\wandb\\run-20240711_013129-mjvb28xc\\logs</code>"
      ],
      "text/plain": [
       "<IPython.core.display.HTML object>"
      ]
     },
     "metadata": {},
     "output_type": "display_data"
    },
    {
     "data": {
      "text/html": [
       "The new W&B backend becomes opt-out in version 0.18.0; try it out with `wandb.require(\"core\")`! See https://wandb.me/wandb-core for more information."
      ],
      "text/plain": [
       "<IPython.core.display.HTML object>"
      ]
     },
     "metadata": {},
     "output_type": "display_data"
    }
   ],
   "source": [
    "wandb.run.finish()"
   ]
  },
  {
   "cell_type": "markdown",
   "metadata": {},
   "source": [
    "# Выводы\n",
    "\n",
    "https://wandb.ai/obuchii/NLP%20Scoring/runs/mjvb28xc\n",
    "\n",
    "|  Задача | Errant Precision | Errant Recall | Errant F1 | Precision | Recall | F1\n",
    "|----------|----------|----------|----------|----------|----------|----------|\n",
    "| Spelling   | 61.97   | 49.78   | 55.21   | 70.12   | 49.95   | 58.34   |\n",
    "\n",
    "-------\n",
    "\n",
    "\n",
    "|  Задача | Punct Precision | Punct Recall | Punct F1 | Case Precision | Case Recall | Case F1\n",
    "|----------|----------|----------|----------|----------|----------|----------|\n",
    "| Punctuation   | 100   | 0   | 0    | 100.0  | 0   | 0    |\n",
    "\n",
    "\n",
    "Модель плохенько справляется со спеллингом, обычно на сложных примерах.\n",
    "\n",
    "Модель не умеет исправлять пунктуационные ошибки.\n",
    "\n",
    "Не исправляет пунктуацию, работает супер долго, есть риск vendor lock\n",
    "\n",
    "Модель использовать не будем\n"
   ]
  },
  {
   "cell_type": "markdown",
   "metadata": {},
   "source": []
  }
 ],
 "metadata": {
  "kernelspec": {
   "display_name": ".venv",
   "language": "python",
   "name": "python3"
  },
  "language_info": {
   "codemirror_mode": {
    "name": "ipython",
    "version": 3
   },
   "file_extension": ".py",
   "mimetype": "text/x-python",
   "name": "python",
   "nbconvert_exporter": "python",
   "pygments_lexer": "ipython3",
   "version": "3.10.11"
  }
 },
 "nbformat": 4,
 "nbformat_minor": 2
}
